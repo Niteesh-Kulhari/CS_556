{
 "cells": [
  {
   "cell_type": "code",
   "execution_count": 45,
   "id": "19a49bf6",
   "metadata": {},
   "outputs": [
    {
     "data": {
      "text/plain": [
       "array([[5, 3, 3, ..., 0, 0, 0],\n",
       "       [5, 0, 0, ..., 0, 0, 0],\n",
       "       [0, 0, 0, ..., 0, 0, 0],\n",
       "       ...,\n",
       "       [0, 0, 0, ..., 0, 0, 0],\n",
       "       [0, 3, 4, ..., 0, 0, 0],\n",
       "       [4, 0, 0, ..., 0, 0, 0]], dtype=uint8)"
      ]
     },
     "execution_count": 45,
     "metadata": {},
     "output_type": "execute_result"
    }
   ],
   "source": [
    "import numpy as np\n",
    "import pandas as pd\n",
    "\n",
    "# read the data\n",
    "column_list_ratings = [\"UserID\", \"MovieID\", \"Ratings\",\"Timestamp\"]\n",
    "ratings_data = pd.read_csv('ratings.dat',sep='::',names = column_list_ratings, engine='python')\n",
    "\n",
    "# get the number of unique users and movies\n",
    "user_ids = ratings_data['UserID'].unique()\n",
    "movie_ids = ratings_data['MovieID'].unique()\n",
    "\n",
    "ratings_matrix = np.zeros((len(user_ids), len(movie_ids)), dtype = np.uint8)\n",
    "\n",
    "for index, row in ratings_data.iterrows():\n",
    "    user_id = row['UserID']\n",
    "    movie_id = row['MovieID']\n",
    "    rating = row['Ratings']\n",
    "    user_idx = np.where(user_ids == user_id)[0][0]\n",
    "    movie_idx = np.where(movie_ids == movie_id)[0][0]\n",
    "    ratings_matrix[user_idx, movie_idx] = rating\n",
    "ratings_matrix"
   ]
  },
  {
   "cell_type": "code",
   "execution_count": 48,
   "id": "a8278395",
   "metadata": {},
   "outputs": [
    {
     "name": "stdout",
     "output_type": "stream",
     "text": [
      "[3 3 2]\n",
      "[10 13 18]\n"
     ]
    }
   ],
   "source": [
    "movie_id = 1377\n",
    "user_ids_1377 = ratings_data[ratings_data['MovieID'] == movie_id]['UserID'].head(3).values\n",
    "user_ids_1377\n",
    "movie_idx = np.where(movie_ids == movie_id)[0][0]\n",
    "ratings_1377 = ratings_matrix[user_ids_1377-1, movie_idx]\n",
    "print(ratings_1377)\n",
    "print(user_ids_1377)"
   ]
  },
  {
   "cell_type": "code",
   "execution_count": 49,
   "id": "0050893b",
   "metadata": {},
   "outputs": [
    {
     "name": "stderr",
     "output_type": "stream",
     "text": [
      "C:\\Users\\nkulh\\AppData\\Local\\Temp\\ipykernel_45844\\2047042359.py:17: RuntimeWarning: invalid value encountered in true_divide\n",
      "  std_ratings[idx, j] = (ratings_matrix[idx, j] - mean_ratings[j]) / np.std(ratings_matrix[idx, j])\n"
     ]
    }
   ],
   "source": [
    "# Calculate mean by movie\n",
    "mean_ratings = np.zeros((num_movies,))\n",
    "for j in range(num_movies):\n",
    "    idx = np.where(ratings_matrix[:, j] != 0)\n",
    "    mean_ratings[j] = np.mean(ratings_matrix[idx, j])\n",
    "    \n",
    "# Replace missing values with the mean rating for the given movie\n",
    "for i in range(num_users):\n",
    "    for j in range(num_movies):\n",
    "        if ratings_matrix[i, j] == 0:\n",
    "            ratings_matrix[i, j] = mean_ratings[j]\n",
    "            \n",
    "# Subtract mean from original ratings and divide it by the standard deviation\n",
    "std_ratings = np.zeros((num_users, num_movies))\n",
    "for j in range(num_movies):\n",
    "    idx = np.where(ratings_matrix[:, j] != 0)\n",
    "    std_ratings[idx, j] = (ratings_matrix[idx, j] - mean_ratings[j]) / np.std(ratings_matrix[idx, j])\n",
    "    \n",
    "# Replace NaN values with 0\n",
    "std_ratings = np.nan_to_num(std_ratings, nan=0)"
   ]
  },
  {
   "cell_type": "code",
   "execution_count": 50,
   "id": "88f08559",
   "metadata": {},
   "outputs": [
    {
     "name": "stdout",
     "output_type": "stream",
     "text": [
      "U shape:  (6040, 6040)\n",
      "S shape:  (3706,)\n",
      "V shape:  (3706, 3706)\n"
     ]
    }
   ],
   "source": [
    "# Compute the SVD of the normalised matrix\n",
    "u, s, vh = np.linalg.svd(std_ratings)\n",
    "\n",
    "# Print the shapes\n",
    "print(\"U shape: \", u.shape)\n",
    "print(\"S shape: \", s.shape)\n",
    "print(\"V shape: \", vh.shape)"
   ]
  },
  {
   "cell_type": "code",
   "execution_count": 69,
   "id": "7c3c999d",
   "metadata": {},
   "outputs": [
    {
     "name": "stdout",
     "output_type": "stream",
     "text": [
      "For k = 100, User 10's original rating: 3, predicted rating: -0.63\n",
      "For k = 100, User 13's original rating: 3, predicted rating: -0.67\n",
      "For k = 100, User 18's original rating: 2, predicted rating: -1.21\n",
      "For k = 1000, User 10's original rating: 3, predicted rating: -0.11\n",
      "For k = 1000, User 13's original rating: 3, predicted rating: -0.67\n",
      "For k = 1000, User 18's original rating: 2, predicted rating: -1.25\n",
      "For k = 2000, User 10's original rating: 3, predicted rating: -0.47\n",
      "For k = 2000, User 13's original rating: 3, predicted rating: -0.73\n",
      "For k = 2000, User 18's original rating: 2, predicted rating: -0.88\n",
      "For k = 3000, User 10's original rating: 3, predicted rating: -0.68\n",
      "For k = 3000, User 13's original rating: 3, predicted rating: -0.71\n",
      "For k = 3000, User 18's original rating: 2, predicted rating: -0.76\n"
     ]
    }
   ],
   "source": [
    "# Define the k values\n",
    "k_values = [100, 1000, 2000, 3000]\n",
    "\n",
    "# Loop over the k values\n",
    "for k in k_values:\n",
    "    # Reconstruct the rank-k matrix\n",
    "    R_k = u[:, :k] @ np.diag(s[:k]) @ vh[:k, :]\n",
    "    if k == 1000:\n",
    "        Rk_1000 = R_k\n",
    "    # Make predictions for the selected users and movie\n",
    "    for user_id in [10,13,18]:\n",
    "        user_idx = user_id - 1\n",
    "        movie_idx = 1376  # index starts from 0\n",
    "        \n",
    "        # Get the original rating\n",
    "        rating_original = ratings_data[(ratings_data[\"UserID\"] == user_id) & \n",
    "                                        (ratings_data[\"MovieID\"] == 1377)][\"Ratings\"].values[0]\n",
    "        \n",
    "        # Get the predicted rating\n",
    "        rating_predicted = R_k[user_idx, movie_idx]\n",
    "        \n",
    "        # Print the original and predicted ratings\n",
    "        print(\"For k = {}, User {}'s original rating: {}, predicted rating: {:.2f}\".format(k, user_id, rating_original, rating_predicted))"
   ]
  },
  {
   "cell_type": "code",
   "execution_count": 82,
   "id": "1103c3b9",
   "metadata": {},
   "outputs": [
    {
     "name": "stdout",
     "output_type": "stream",
     "text": [
      "Most Similar movies: \n",
      "1. Bastard Out of Carolina (1996)\n",
      "2. Cyrano de Bergerac (1990)\n",
      "3. Somewhere in Time (1980)\n",
      "4. Xiu Xiu: The Sent-Down Girl (Tian yu) (1998)\n",
      "5. That Old Feeling (1997)\n"
     ]
    },
    {
     "name": "stderr",
     "output_type": "stream",
     "text": [
      "C:\\Users\\nkulh\\AppData\\Local\\Temp\\ipykernel_45844\\1162186356.py:8: RuntimeWarning: invalid value encountered in true_divide\n",
      "  sim_scores = np.nan_to_num(np.dot(data.T, movie_vec) / (np.linalg.norm(data, axis=0) * np.linalg.norm(movie_vec)))\n"
     ]
    }
   ],
   "source": [
    "def top_movie_similarity(data, movie_id, top_n=5):\n",
    "    # Get the column index for the given movie_id\n",
    "    movie_idx = movie_id-1\n",
    "    \n",
    "    # Get the column vector for the given movie\n",
    "    movie_vec = data[:, movie_idx]\n",
    "    # Calculate the cosine similarity between the given movie and all other movies\n",
    "    sim_scores = np.nan_to_num(np.dot(data.T, movie_vec) / (np.linalg.norm(data, axis=0) * np.linalg.norm(movie_vec)))\n",
    "    \n",
    "    # Sort the movies based on their similarity with the given movie\n",
    "    top_indices = np.argsort(-sim_scores)[:top_n]\n",
    "    top_scores = sim_scores[top_indices]\n",
    "    \n",
    "    return top_indices, top_scores\n",
    "def print_similar_movies(movie_titles, top_indices):\n",
    "    print('Most Similar movies: ')\n",
    "    for i, idx in enumerate(top_indices):\n",
    "        print(f'{i+1}. {movie_titles[idx]}')\n",
    "        \n",
    "# Find the top 5 similar movies for Batman Returns\n",
    "movie_id = 1377\n",
    "top_indices, top_scores = top_movie_similarity(Rk_1000, movie_id, top_n=5)\n",
    "\n",
    "movie_titles = movies_data[\"Title\"].tolist()\n",
    "\n",
    "# Print the top 5 similar movies\n",
    "print_similar_movies(movie_titles, top_indices)"
   ]
  },
  {
   "cell_type": "code",
   "execution_count": null,
   "id": "eb171638",
   "metadata": {},
   "outputs": [],
   "source": []
  }
 ],
 "metadata": {
  "kernelspec": {
   "display_name": "Python 3 (ipykernel)",
   "language": "python",
   "name": "python3"
  },
  "language_info": {
   "codemirror_mode": {
    "name": "ipython",
    "version": 3
   },
   "file_extension": ".py",
   "mimetype": "text/x-python",
   "name": "python",
   "nbconvert_exporter": "python",
   "pygments_lexer": "ipython3",
   "version": "3.9.13"
  }
 },
 "nbformat": 4,
 "nbformat_minor": 5
}
