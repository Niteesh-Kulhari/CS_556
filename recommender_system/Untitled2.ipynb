{
 "cells": [
  {
   "cell_type": "code",
   "execution_count": 44,
   "id": "a6508d71",
   "metadata": {},
   "outputs": [
    {
     "data": {
      "text/plain": [
       "array([[5, 0, 0, ..., 0, 0, 0],\n",
       "       [0, 0, 0, ..., 0, 0, 0],\n",
       "       [0, 0, 0, ..., 0, 0, 0],\n",
       "       ...,\n",
       "       [0, 0, 0, ..., 0, 0, 0],\n",
       "       [0, 0, 0, ..., 0, 0, 0],\n",
       "       [3, 0, 0, ..., 0, 0, 0]], dtype=uint8)"
      ]
     },
     "execution_count": 44,
     "metadata": {},
     "output_type": "execute_result"
    }
   ],
   "source": [
    "import numpy as np\n",
    "import pandas as pd\n",
    "\n",
    "# read the data\n",
    "column_list_ratings = [\"UserID\", \"MovieID\", \"Ratings\", \"Timestamp\"]\n",
    "ratings_data = pd.read_csv('ratings.dat', sep='::', names = column_list_ratings, engine='python')\n",
    "column_list_movies = [\"MovieID\", \"Title\", \"Genre\"]\n",
    "movies_data = pd.read_csv(\"movies.dat\", sep='::', names = column_list_movies, engine='python', encoding='latin')\n",
    "column_list_users = [\"UserID\", \"gender\", \"Age\", \"Occupation\", \"Zixp-code\"]\n",
    "user_data = pd.read_csv(\"users.dat\", sep='::', names = column_list_users, engine='python')\n",
    "\n",
    "\n",
    "\n",
    "nr_users = np.max(ratings_data.UserID.values)\n",
    "nr_movies = np.max(ratings_data.MovieID.values)\n",
    "ratings_matrix = np.ndarray(shape=(nr_users, nr_movies),dtype=np.uint8)\n",
    "\n",
    "ratings_matrix[ratings_data.UserID.values - 1, ratings_data.MovieID.values - 1] = ratings_data.Ratings.values\n",
    "ratings_matrix"
   ]
  },
  {
   "cell_type": "code",
   "execution_count": 45,
   "id": "258b25ac",
   "metadata": {},
   "outputs": [
    {
     "name": "stderr",
     "output_type": "stream",
     "text": [
      "C:\\Users\\nkulh\\AppData\\Local\\Temp\\ipykernel_23292\\1555921688.py:1: RuntimeWarning: invalid value encountered in true_divide\n",
      "  ratings_matrix = (ratings_matrix - ratings_matrix.mean(axis = 0))/ratings_matrix.std(axis = 0) #normalize the data\n"
     ]
    },
    {
     "data": {
      "text/plain": [
       "(6040, 3952)"
      ]
     },
     "execution_count": 45,
     "metadata": {},
     "output_type": "execute_result"
    }
   ],
   "source": [
    "ratings_matrix = (ratings_matrix - ratings_matrix.mean(axis = 0))/ratings_matrix.std(axis = 0) #normalize the data\n",
    "ratings_matrix[np.isnan(ratings_matrix)] = 0 #replace nan values with 0.\n",
    "ratings_matrix.shape\n"
   ]
  },
  {
   "cell_type": "code",
   "execution_count": 49,
   "id": "029d30f1",
   "metadata": {},
   "outputs": [
    {
     "name": "stdout",
     "output_type": "stream",
     "text": [
      "The shape of ratings matrix:   (6040, 3952)\n",
      "The original matrix:  \n",
      " [[ 1.7587341  -0.34446173 -0.27495584 ... -0.09136796 -0.07885485\n",
      "  -0.25386356]\n",
      " [-0.70171755 -0.34446173 -0.27495584 ... -0.09136796 -0.07885485\n",
      "  -0.25386356]\n",
      " [-0.70171755 -0.34446173 -0.27495584 ... -0.09136796 -0.07885485\n",
      "  -0.25386356]\n",
      " ...\n",
      " [-0.70171755 -0.34446173 -0.27495584 ... -0.09136796 -0.07885485\n",
      "  -0.25386356]\n",
      " [-0.70171755 -0.34446173 -0.27495584 ... -0.09136796 -0.07885485\n",
      "  -0.25386356]\n",
      " [ 0.77455344 -0.34446173 -0.27495584 ... -0.09136796 -0.07885485\n",
      "  -0.25386356]]\n",
      "U matrix shape:   (6040, 6040)\n",
      "S matrix shape:   (3952,)\n",
      "VT matrix shape:   (3952, 3952)\n"
     ]
    }
   ],
   "source": [
    "from numpy.linalg import eig\n",
    "\n",
    "#Getting the ratings matrix to a variable A\n",
    "A=ratings_matrix\n",
    "print(\"The shape of ratings matrix:  \",A.shape)\n",
    "print(\"The original matrix:  \\n\",A)\n",
    "\n",
    "\n",
    "U,S,VT=np.linalg.svd(A)\n",
    "print('U matrix shape:  ',U.shape)\n",
    "print('S matrix shape:  ',S.shape)\n",
    "print('VT matrix shape:  ',VT.shape)"
   ]
  },
  {
   "cell_type": "code",
   "execution_count": 50,
   "id": "58198c42",
   "metadata": {},
   "outputs": [
    {
     "name": "stdout",
     "output_type": "stream",
     "text": [
      "[[ 1.7587341  -0.34446173 -0.27495584 ... -0.09136796 -0.07885485\n",
      "  -0.25386356]\n",
      " [-0.70171755 -0.34446173 -0.27495584 ... -0.09136796 -0.07885485\n",
      "  -0.25386356]\n",
      " [-0.70171755 -0.34446173 -0.27495584 ... -0.09136796 -0.07885485\n",
      "  -0.25386356]\n",
      " ...\n",
      " [-0.70171755 -0.34446173 -0.27495584 ... -0.09136796 -0.07885485\n",
      "  -0.25386356]\n",
      " [-0.70171755 -0.34446173 -0.27495584 ... -0.09136796 -0.07885485\n",
      "  -0.25386356]\n",
      " [ 0.77455344 -0.34446173 -0.27495584 ... -0.09136796 -0.07885485\n",
      "  -0.25386356]]\n"
     ]
    }
   ],
   "source": [
    "E = np.zeros((A.shape[0], A.shape[1]))\n",
    "\n",
    "# Convert Sigma to diagonal matrix\n",
    "E[:A.shape[1], :A.shape[1]] = np.diag(S)\n",
    "E.shape\n",
    "B=np.matmul(U,E)\n",
    "C=np.matmul(B,VT)\n",
    "print(C)\n"
   ]
  },
  {
   "cell_type": "code",
   "execution_count": 51,
   "id": "ecba5992",
   "metadata": {},
   "outputs": [
    {
     "name": "stdout",
     "output_type": "stream",
     "text": [
      "The shape of U matrix is:  (6040, 6040)\n",
      "The shape of E matrix is:  (6040, 3952)\n",
      "The shape of VT matrix is:  (3952, 3952)\n"
     ]
    }
   ],
   "source": [
    "print('The shape of U matrix is: ',U.shape)\n",
    "print('The shape of E matrix is: ',E.shape)\n",
    "print('The shape of VT matrix is: ',VT.shape)"
   ]
  },
  {
   "cell_type": "code",
   "execution_count": 75,
   "id": "60c159c4",
   "metadata": {},
   "outputs": [
    {
     "name": "stdout",
     "output_type": "stream",
     "text": [
      "The shape of ratings matrix:   (6040, 3952)\n",
      "The original matrix:  \n",
      " [[ 1.7587341  -0.34446173 -0.27495584 ... -0.09136796 -0.07885485\n",
      "  -0.25386356]\n",
      " [-0.70171755 -0.34446173 -0.27495584 ... -0.09136796 -0.07885485\n",
      "  -0.25386356]\n",
      " [-0.70171755 -0.34446173 -0.27495584 ... -0.09136796 -0.07885485\n",
      "  -0.25386356]\n",
      " ...\n",
      " [-0.70171755 -0.34446173 -0.27495584 ... -0.09136796 -0.07885485\n",
      "  -0.25386356]\n",
      " [-0.70171755 -0.34446173 -0.27495584 ... -0.09136796 -0.07885485\n",
      "  -0.25386356]\n",
      " [ 0.77455344 -0.34446173 -0.27495584 ... -0.09136796 -0.07885485\n",
      "  -0.25386356]]\n",
      "U matrix shape:   (6040, 6040)\n",
      "S matrix shape:   (3952,)\n",
      "VT matrix shape:   (3952, 3952)\n",
      "[[ 1.7587341  -0.34446173 -0.27495584 ... -0.09136796 -0.07885485\n",
      "  -0.25386356]\n",
      " [-0.70171755 -0.34446173 -0.27495584 ... -0.09136796 -0.07885485\n",
      "  -0.25386356]\n",
      " [-0.70171755 -0.34446173 -0.27495584 ... -0.09136796 -0.07885485\n",
      "  -0.25386356]\n",
      " ...\n",
      " [-0.70171755 -0.34446173 -0.27495584 ... -0.09136796 -0.07885485\n",
      "  -0.25386356]\n",
      " [-0.70171755 -0.34446173 -0.27495584 ... -0.09136796 -0.07885485\n",
      "  -0.25386356]\n",
      " [ 0.77455344 -0.34446173 -0.27495584 ... -0.09136796 -0.07885485\n",
      "  -0.25386356]]\n",
      "The shape of U matrix is:  (6040, 6040)\n",
      "The shape of E matrix is:  (6040, 3952)\n",
      "The shape of VT matrix is:  (3952, 3952)\n"
     ]
    }
   ],
   "source": [
    "from numpy.linalg import eig\n",
    "\n",
    "#Getting the ratings matrix to a variable A\n",
    "A=ratings_matrix\n",
    "print(\"The shape of ratings matrix:  \",A.shape)\n",
    "print(\"The original matrix:  \\n\",A)\n",
    "\n",
    "\n",
    "U,S,VT=np.linalg.svd(A)\n",
    "print('U matrix shape:  ',U.shape)\n",
    "print('S matrix shape:  ',S.shape)\n",
    "print('VT matrix shape:  ',VT.shape)\n",
    "\n",
    "\n",
    "# In[347]:\n",
    "\n",
    "\n",
    "E = np.zeros((A.shape[0], A.shape[1]))\n",
    "\n",
    "# Convert Sigma to diagonal matrix\n",
    "E[:A.shape[1], :A.shape[1]] = np.diag(S)\n",
    "E.shape\n",
    "B=np.matmul(U,E)\n",
    "C=np.matmul(B,VT)\n",
    "print(C)\n",
    "\n",
    "\n",
    "# In[90]:\n",
    "\n",
    "\n",
    "# Print the shapes\n",
    "print('The shape of U matrix is: ',U.shape)\n",
    "print('The shape of E matrix is: ',E.shape)\n",
    "print('The shape of VT matrix is: ',VT.shape)\n"
   ]
  },
  {
   "cell_type": "code",
   "execution_count": 76,
   "id": "a8fae4d3",
   "metadata": {},
   "outputs": [
    {
     "ename": "NameError",
     "evalue": "name 'matrix_rank' is not defined",
     "output_type": "error",
     "traceback": [
      "\u001b[1;31m---------------------------------------------------------------------------\u001b[0m",
      "\u001b[1;31mNameError\u001b[0m                                 Traceback (most recent call last)",
      "\u001b[1;32m~\\AppData\\Local\\Temp\\ipykernel_23292\\3344403964.py\u001b[0m in \u001b[0;36m<module>\u001b[1;34m\u001b[0m\n\u001b[0;32m     12\u001b[0m     \u001b[1;32melif\u001b[0m \u001b[0mi\u001b[0m\u001b[1;33m==\u001b[0m\u001b[1;36m3\u001b[0m\u001b[1;33m:\u001b[0m\u001b[1;33m\u001b[0m\u001b[1;33m\u001b[0m\u001b[0m\n\u001b[0;32m     13\u001b[0m         \u001b[0mR3000\u001b[0m\u001b[1;33m=\u001b[0m\u001b[0mRk\u001b[0m\u001b[1;33m\u001b[0m\u001b[1;33m\u001b[0m\u001b[0m\n\u001b[1;32m---> 14\u001b[1;33m \u001b[0mprint\u001b[0m\u001b[1;33m(\u001b[0m\u001b[0mmatrix_rank\u001b[0m\u001b[1;33m(\u001b[0m\u001b[0mR100\u001b[0m\u001b[1;33m)\u001b[0m\u001b[1;33m,\u001b[0m\u001b[0mmatrix_rank\u001b[0m\u001b[1;33m(\u001b[0m\u001b[0mR1000\u001b[0m\u001b[1;33m)\u001b[0m\u001b[1;33m,\u001b[0m\u001b[0mmatrix_rank\u001b[0m\u001b[1;33m(\u001b[0m\u001b[0mR2000\u001b[0m\u001b[1;33m)\u001b[0m\u001b[1;33m,\u001b[0m\u001b[0mmatrix_rank\u001b[0m\u001b[1;33m(\u001b[0m\u001b[0mR3000\u001b[0m\u001b[1;33m)\u001b[0m\u001b[1;33m)\u001b[0m\u001b[1;33m\u001b[0m\u001b[1;33m\u001b[0m\u001b[0m\n\u001b[0m",
      "\u001b[1;31mNameError\u001b[0m: name 'matrix_rank' is not defined"
     ]
    }
   ],
   "source": [
    "k=[100,1000,2000,3000]\n",
    "\n",
    "#Constructing lower rank prediction matrices\n",
    "for i in range(len(k)):\n",
    "    Rk=U[:,:k[i]]@np.diag(S[:k[i]])@VT[:k[i],:]\n",
    "    if (i==0):\n",
    "        R100=Rk\n",
    "    elif i==1:\n",
    "        R1000=Rk\n",
    "    elif i==2:\n",
    "        R2000=Rk\n",
    "    elif i==3:\n",
    "        R3000=Rk\n",
    "print(matrix_rank(R100),matrix_rank(R1000),matrix_rank(R2000),matrix_rank(R3000))"
   ]
  },
  {
   "cell_type": "code",
   "execution_count": 59,
   "id": "b2234288",
   "metadata": {},
   "outputs": [
    {
     "name": "stdout",
     "output_type": "stream",
     "text": [
      "-0.4591952956371597\n",
      "0.3671136096473012\n",
      "-0.04121511796267103\n"
     ]
    }
   ],
   "source": [
    "user = [11,22,33]\n",
    "for i in user:\n",
    "    print(R100[i][1376])"
   ]
  },
  {
   "cell_type": "code",
   "execution_count": 64,
   "id": "54ac7730",
   "metadata": {},
   "outputs": [
    {
     "name": "stdout",
     "output_type": "stream",
     "text": [
      "-0.4666582627416219\n",
      "-0.2838819313053366\n",
      "-0.5003560629246577\n",
      "(6040, 3952) (3952, 6040)\n",
      "[-0.53173769  0.16743401 -0.18018232 ... -0.56064447 -0.6354071\n",
      " -1.38147735]\n",
      "[1654.58160537 2076.90576819 1356.58315134 ...  216.09394659   53.03458232\n",
      "  484.00441761]\n"
     ]
    },
    {
     "ename": "AttributeError",
     "evalue": "'numpy.ndarray' object has no attribute 'norm'",
     "output_type": "error",
     "traceback": [
      "\u001b[1;31m---------------------------------------------------------------------------\u001b[0m",
      "\u001b[1;31mAttributeError\u001b[0m                            Traceback (most recent call last)",
      "\u001b[1;32m~\\AppData\\Local\\Temp\\ipykernel_23292\\541368715.py\u001b[0m in \u001b[0;36m<module>\u001b[1;34m\u001b[0m\n\u001b[0;32m     18\u001b[0m \u001b[1;33m\u001b[0m\u001b[0m\n\u001b[0;32m     19\u001b[0m \u001b[1;33m\u001b[0m\u001b[0m\n\u001b[1;32m---> 20\u001b[1;33m \u001b[0mden\u001b[0m\u001b[1;33m=\u001b[0m\u001b[0ms\u001b[0m\u001b[1;33m.\u001b[0m\u001b[0mnorm\u001b[0m\u001b[1;33m(\u001b[0m\u001b[0mY\u001b[0m\u001b[1;33m)\u001b[0m\u001b[1;33m*\u001b[0m\u001b[0mla\u001b[0m\u001b[1;33m.\u001b[0m\u001b[0mnorm\u001b[0m\u001b[1;33m(\u001b[0m\u001b[0mRT\u001b[0m\u001b[1;33m)\u001b[0m\u001b[1;33m\u001b[0m\u001b[1;33m\u001b[0m\u001b[0m\n\u001b[0m\u001b[0;32m     21\u001b[0m \u001b[0mprint\u001b[0m\u001b[1;33m(\u001b[0m\u001b[0mden\u001b[0m\u001b[1;33m)\u001b[0m\u001b[1;33m\u001b[0m\u001b[1;33m\u001b[0m\u001b[0m\n\u001b[0;32m     22\u001b[0m \u001b[1;33m\u001b[0m\u001b[0m\n",
      "\u001b[1;31mAttributeError\u001b[0m: 'numpy.ndarray' object has no attribute 'norm'"
     ]
    }
   ],
   "source": [
    "user = [11,22,33]\n",
    "for i in user:\n",
    "    print(R1000[i][1376])\n",
    "RT=R1000.T\n",
    "print(R1000.shape,RT.shape)    \n",
    "Y=RT[1376][:]\n",
    "print(Y)\n",
    "\n",
    "\n",
    "# In[350]:\n",
    "\n",
    "\n",
    "num=RT.dot(Y)\n",
    "print(num)\n",
    "\n",
    "\n",
    "# In[351]:\n",
    "\n",
    "\n",
    "den=s.norm(Y)*la.norm(RT)\n",
    "print(den)\n",
    "\n",
    "\n",
    "# In[352]:\n",
    "\n",
    "\n",
    "cos=num/den\n",
    "print(cos)\n",
    "\n",
    "\n",
    "# In[353]:\n",
    "\n",
    "\n",
    "index=np.argsort(-cos)\n",
    "print(index)\n",
    "\n",
    "movie_titles = movies_data[\"Title\"].tolist()\n",
    "for i in index:\n",
    "    print(movie_titles[i])"
   ]
  },
  {
   "cell_type": "code",
   "execution_count": 26,
   "id": "2cf2ec8a",
   "metadata": {},
   "outputs": [
    {
     "name": "stdout",
     "output_type": "stream",
     "text": [
      "User 10 Rated the movie:  3\n",
      "User 13 Rated the movie:  3\n",
      "User 18 Rated the movie:  2\n"
     ]
    }
   ],
   "source": [
    "# Movie id as given in question\n",
    "movie_id = 1377\n",
    "\n",
    "# Extracting user_id for the given movie_id\n",
    "user_ids_1377 = ratings_data[ratings_data['MovieID'] == movie_id]['UserID'].head(3).values\n",
    "\n",
    "movie_idx = np.where(movie_ids == movie_id)[0][0]\n",
    "\n",
    "# Printing the rating given by every user to the movie\n",
    "for user_1 in user_ids_1377:\n",
    "    ratings_1377 = ratings_matrix[user_1-1, movie_idx]\n",
    "    print(\"User\",user_1, \"Rated the movie: \",ratings_1377 )"
   ]
  },
  {
   "cell_type": "code",
   "execution_count": 61,
   "id": "92ee59d2",
   "metadata": {},
   "outputs": [
    {
     "name": "stderr",
     "output_type": "stream",
     "text": [
      "C:\\Users\\nkulh\\AppData\\Local\\Temp\\ipykernel_23292\\3795815596.py:2: RuntimeWarning: invalid value encountered in true_divide\n",
      "  means = np.sum(ratings_matrix, axis=0) / np.count_nonzero(ratings_matrix, axis=0)\n"
     ]
    },
    {
     "data": {
      "text/plain": [
       "array([[ 1.7587341 , -0.34446173, -0.27495584, ..., -0.09136796,\n",
       "        -0.07885485, -0.25386356],\n",
       "       [-0.70171755, -0.34446173, -0.27495584, ..., -0.09136796,\n",
       "        -0.07885485, -0.25386356],\n",
       "       [-0.70171755, -0.34446173, -0.27495584, ..., -0.09136796,\n",
       "        -0.07885485, -0.25386356],\n",
       "       ...,\n",
       "       [-0.70171755, -0.34446173, -0.27495584, ..., -0.09136796,\n",
       "        -0.07885485, -0.25386356],\n",
       "       [-0.70171755, -0.34446173, -0.27495584, ..., -0.09136796,\n",
       "        -0.07885485, -0.25386356],\n",
       "       [ 0.77455344, -0.34446173, -0.27495584, ..., -0.09136796,\n",
       "        -0.07885485, -0.25386356]])"
      ]
     },
     "execution_count": 61,
     "metadata": {},
     "output_type": "execute_result"
    }
   ],
   "source": [
    "# Compute column averages\n",
    "means = np.sum(ratings_matrix, axis=0) / np.count_nonzero(ratings_matrix, axis=0)\n",
    "\n",
    "# Replace missing ratings with column means\n",
    "filled_ratings_matrix = np.where(ratings_matrix == 0, means[np.newaxis, :], ratings_matrix)\n",
    "\n",
    "# Subtract column means from ratings matrix\n",
    "mean_centered_ratings_matrix = filled_ratings_matrix - means[np.newaxis, :]\n",
    "\n",
    "mean_centered_ratings_matrix"
   ]
  },
  {
   "cell_type": "code",
   "execution_count": 32,
   "id": "3a42443a",
   "metadata": {},
   "outputs": [
    {
     "name": "stderr",
     "output_type": "stream",
     "text": [
      "C:\\Users\\nkulh\\AppData\\Local\\Temp\\ipykernel_23292\\2091174920.py:17: RuntimeWarning: invalid value encountered in true_divide\n",
      "  std_ratings[idx, j] = (ratings_matrix[idx, j] - mean_ratings[j]) / np.std(ratings_matrix[idx, j])\n"
     ]
    },
    {
     "data": {
      "text/plain": [
       "array([[ 1.94297337, -0.1229419 , -3.53765168, ...,  0.        ,\n",
       "         0.        ,  0.        ],\n",
       "       [ 1.94297337, -0.1229419 , -0.05648255, ...,  0.        ,\n",
       "         0.        ,  0.        ],\n",
       "       [-0.24404846, -0.1229419 , -0.05648255, ...,  0.        ,\n",
       "         0.        ,  0.        ],\n",
       "       ...,\n",
       "       [-0.24404846, -0.1229419 , -0.05648255, ...,  0.        ,\n",
       "         0.        ,  0.        ],\n",
       "       [-0.24404846, -0.1229419 , -0.05648255, ...,  0.        ,\n",
       "         0.        ,  0.        ],\n",
       "       [-0.24404846, -0.1229419 , -0.05648255, ...,  0.        ,\n",
       "         0.        ,  0.        ]])"
      ]
     },
     "execution_count": 32,
     "metadata": {},
     "output_type": "execute_result"
    }
   ],
   "source": [
    "# Calculate mean by movie\n",
    "mean_ratings = np.zeros((num_movies,))\n",
    "for j in range(num_movies):\n",
    "    idx = np.where(ratings_matrix[:, j] != 0)\n",
    "    mean_ratings[j] = np.mean(ratings_matrix[idx, j])\n",
    "    \n",
    "# Replace missing values with the mean rating for the given movie\n",
    "for i in range(num_users):\n",
    "    for j in range(num_movies):\n",
    "        if ratings_matrix[i, j] == 0:\n",
    "            ratings_matrix[i, j] = mean_ratings[j]\n",
    "            \n",
    "# Subtract mean from original ratings and divide it by the standard deviation\n",
    "std_ratings = np.zeros((num_users, num_movies))\n",
    "for j in range(num_movies):\n",
    "    idx = np.where(ratings_matrix[:, j] != 0)\n",
    "    std_ratings[idx, j] = (ratings_matrix[idx, j] - mean_ratings[j]) / np.std(ratings_matrix[idx, j])\n",
    "    \n",
    "# Replace NaN values with 0\n",
    "std_ratings = np.nan_to_num(std_ratings, nan=0)\n",
    "std_ratings"
   ]
  },
  {
   "cell_type": "code",
   "execution_count": 29,
   "id": "26b52b40",
   "metadata": {},
   "outputs": [
    {
     "name": "stdout",
     "output_type": "stream",
     "text": [
      "U shape:  (6040, 6040)\n",
      "S shape:  (3706,)\n",
      "V shape:  (3706, 3706)\n"
     ]
    }
   ],
   "source": [
    "# Compute the SVD of the normalised matrix\n",
    "u, s, vh = np.linalg.svd(std_ratings)\n",
    "\n",
    "# Print the shapes\n",
    "print(\"U shape: \", u.shape)\n",
    "print(\"S shape: \", s.shape)\n",
    "print(\"V shape: \", vh.shape)"
   ]
  },
  {
   "cell_type": "code",
   "execution_count": 41,
   "id": "f1bbca53",
   "metadata": {},
   "outputs": [
    {
     "name": "stdout",
     "output_type": "stream",
     "text": [
      "For k = 100, User 10's original rating: 3, predicted rating: -0.63\n",
      "For k = 100, User 13's original rating: 3, predicted rating: -0.67\n",
      "For k = 100, User 18's original rating: 2, predicted rating: -1.21\n",
      "For k = 1000, User 10's original rating: 3, predicted rating: -0.11\n",
      "For k = 1000, User 13's original rating: 3, predicted rating: -0.67\n",
      "For k = 1000, User 18's original rating: 2, predicted rating: -1.25\n",
      "For k = 2000, User 10's original rating: 3, predicted rating: -0.47\n",
      "For k = 2000, User 13's original rating: 3, predicted rating: -0.73\n",
      "For k = 2000, User 18's original rating: 2, predicted rating: -0.88\n",
      "For k = 3000, User 10's original rating: 3, predicted rating: -0.68\n",
      "For k = 3000, User 13's original rating: 3, predicted rating: -0.71\n",
      "For k = 3000, User 18's original rating: 2, predicted rating: -0.76\n"
     ]
    }
   ],
   "source": [
    "# Define the k values\n",
    "k_values = [100, 1000, 2000, 3000]\n",
    "\n",
    "# Loop over the k values\n",
    "for k in k_values:\n",
    "    # Reconstruct the rank-k matrix\n",
    "    R_k = u[:, :k] @ np.diag(s[:k]) @ vh[:k, :]\n",
    "    if k==1000:\n",
    "        Rk_1000 = R_k\n",
    "    # Make predictions for the selected users and movie\n",
    "    for user_id in user_ids_1377:\n",
    "        user_idx = user_id - 1\n",
    "        movie_idx = 1376  # index starts from 0\n",
    "        \n",
    "        # Get the original rating\n",
    "        rating_original = ratings_data[(ratings_data[\"UserID\"] == user_id) & \n",
    "                                        (ratings_data[\"MovieID\"] == 1377)][\"Ratings\"].values[0]\n",
    "        \n",
    "        # Get the predicted rating\n",
    "        rating_predicted = R_k[user_idx, movie_idx]\n",
    "        \n",
    "        # Print the original and predicted ratings\n",
    "        print(\"For k = {}, User {}'s original rating: {}, predicted rating: {:.2f}\".format(k, user_id, rating_original, rating_predicted))\n"
   ]
  },
  {
   "cell_type": "code",
   "execution_count": 62,
   "id": "d10405a4",
   "metadata": {},
   "outputs": [
    {
     "name": "stderr",
     "output_type": "stream",
     "text": [
      "C:\\Users\\nkulh\\AppData\\Local\\Temp\\ipykernel_23292\\3746986766.py:9: RuntimeWarning: invalid value encountered in true_divide\n",
      "  sim_scores = np.nan_to_num(np.dot(data.T, movie_vec) / (np.linalg.norm(data, axis=0) * np.linalg.norm(movie_vec)))\n"
     ]
    },
    {
     "ename": "NameError",
     "evalue": "name 'movie_titles' is not defined",
     "output_type": "error",
     "traceback": [
      "\u001b[1;31m---------------------------------------------------------------------------\u001b[0m",
      "\u001b[1;31mNameError\u001b[0m                                 Traceback (most recent call last)",
      "\u001b[1;32m~\\AppData\\Local\\Temp\\ipykernel_23292\\3746986766.py\u001b[0m in \u001b[0;36m<module>\u001b[1;34m\u001b[0m\n\u001b[0;32m     25\u001b[0m \u001b[1;33m\u001b[0m\u001b[0m\n\u001b[0;32m     26\u001b[0m \u001b[1;31m# Print the top 5 similar movies\u001b[0m\u001b[1;33m\u001b[0m\u001b[1;33m\u001b[0m\u001b[0m\n\u001b[1;32m---> 27\u001b[1;33m \u001b[0mprint_similar_movies\u001b[0m\u001b[1;33m(\u001b[0m\u001b[0mmovie_titles\u001b[0m\u001b[1;33m,\u001b[0m \u001b[0mtop_indices\u001b[0m\u001b[1;33m)\u001b[0m\u001b[1;33m\u001b[0m\u001b[1;33m\u001b[0m\u001b[0m\n\u001b[0m",
      "\u001b[1;31mNameError\u001b[0m: name 'movie_titles' is not defined"
     ]
    }
   ],
   "source": [
    "def top_movie_similarity(data, movie_id, top_n=5):\n",
    "    # Get the column index for the given movie_id\n",
    "    movie_idx = movie_id - 1\n",
    "    \n",
    "    # Get the column vector for the given movie\n",
    "    movie_vec = data[:, movie_idx]\n",
    "    \n",
    "    # Calculate the cosine similarity between the given movie and all other movies\n",
    "    sim_scores = np.nan_to_num(np.dot(data.T, movie_vec) / (np.linalg.norm(data, axis=0) * np.linalg.norm(movie_vec)))\n",
    "    \n",
    "    # Sort the movies based on their similarity with the given movie\n",
    "    top_indices = np.argsort(-sim_scores)[:top_n]\n",
    "    top_scores = sim_scores[top_indices]\n",
    "    \n",
    "    return top_indices, top_scores\n",
    "\n",
    "def print_similar_movies(movie_titles, top_indices):\n",
    "    print('Most Similar movies: ')\n",
    "    for i, idx in enumerate(top_indices):\n",
    "        print(f'{i+1}. {movie_titles[idx]}')\n",
    "    \n",
    "# Find the top 5 similar movies for Batman Returns\n",
    "movie_id = 1377\n",
    "top_indices, top_scores = top_movie_similarity(Rk, movie_id, top_n=5)\n",
    "\n",
    "movie_titles = movies_data[\"Title\"].tolist()\n",
    "\n",
    "# Print the top 5 similar movies\n",
    "print_similar_movies(movie_titles, top_indices)"
   ]
  },
  {
   "cell_type": "code",
   "execution_count": null,
   "id": "32976e26",
   "metadata": {},
   "outputs": [],
   "source": [
    "de top_user_similarity(data, user_id, top_n=1):\n",
    "    user_idx = user_id-1\n",
    "    \n",
    "    user_vec = data[user_idx,:]\n",
    "    \n",
    "    sim_score = np.nan_to_num(np.dot(data,user_vec)/(np.linalg.norm(data,axis=0)*np.linalg.norm(user_vec)))\n",
    "    \n",
    "    top_idices = np.argsort(-sim_scores)[:top_n]\n",
    "    top_scores = sim_scores[top_indices]\n",
    "    return top_indices, top_scores\n",
    "\n",
    "def print_similar_movies(movie_titles, top_indices):\n",
    "    print('Most Similar movies: ')\n",
    "    for i, idx in enumerate(top_indices):\n",
    "        print(f'{i+1}. {movie_titles[idx]}')\n",
    "        \n",
    "user_id = 5954\n",
    "top_indices, top_scores = top_movie_similarity(Rk_1000, user_id, top_n=1)\n",
    "\n",
    "# Print the top 5 similar movies\n",
    "print_similar_movies(movie_titles, top_indices)"
   ]
  }
 ],
 "metadata": {
  "kernelspec": {
   "display_name": "Python 3 (ipykernel)",
   "language": "python",
   "name": "python3"
  },
  "language_info": {
   "codemirror_mode": {
    "name": "ipython",
    "version": 3
   },
   "file_extension": ".py",
   "mimetype": "text/x-python",
   "name": "python",
   "nbconvert_exporter": "python",
   "pygments_lexer": "ipython3",
   "version": "3.9.13"
  }
 },
 "nbformat": 4,
 "nbformat_minor": 5
}
