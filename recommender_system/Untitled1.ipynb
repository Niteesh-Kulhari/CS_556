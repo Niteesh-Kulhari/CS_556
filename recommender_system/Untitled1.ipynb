{
 "cells": [
  {
   "cell_type": "code",
   "execution_count": 133,
   "id": "19a49bf6",
   "metadata": {},
   "outputs": [
    {
     "name": "stdout",
     "output_type": "stream",
     "text": [
      "(6040, 3706)\n",
      "[[5 3 3 ... 0 0 0]\n",
      " [5 0 0 ... 0 0 0]\n",
      " [0 0 0 ... 0 0 0]\n",
      " ...\n",
      " [0 0 0 ... 0 0 0]\n",
      " [0 3 4 ... 0 0 0]\n",
      " [4 0 0 ... 0 0 0]]\n"
     ]
    }
   ],
   "source": [
    "import numpy as np\n",
    "import pandas as pd\n",
    "\n",
    "# Read in the data\n",
    "column_list_ratings = [\"UserID\", \"MovieID\", \"Ratings\",\"Timestamp\"]\n",
    "ratings_data = pd.read_csv('ratings.dat', sep='::', names=column_list_ratings, engine='python')\n",
    "column_list_movies = [\"MovieID\",\"Title\",\"Genres\"]\n",
    "movies_data = pd.read_csv('movies.dat', sep='::', names=column_list_movies, engine='python', encoding='latin-1')\n",
    "column_list_users = [\"UserID\",\"Gender\",\"Age\",\"Occupation\",\"Zixp-code\"]\n",
    "user_data = pd.read_csv(\"users.dat\", sep=\"::\", names=column_list_users, engine=\"python\")\n",
    "\n",
    "# Extracting all the unique iser_ids and movie_ids from the data\n",
    "user_ids = ratings_data['UserID'].unique()\n",
    "movie_ids = ratings_data['MovieID'].unique()\n",
    "\n",
    "#Rating matrix filled with zero's with dimension of user_ids, movie_ids\n",
    "ratings_matrix = np.zeros((len(user_ids), len(movie_ids)), dtype = np.uint8)\n",
    "\n",
    "# Populating the rating matrix with the rating given by a user to a movie\n",
    "for index, row in ratings_data.iterrows():\n",
    "    user_id = row['UserID']\n",
    "    movie_id = row['MovieID']\n",
    "    rating = row['Ratings']\n",
    "    user_idx = np.where(user_ids == user_id)[0][0]\n",
    "    movie_idx = np.where(movie_ids == movie_id)[0][0]\n",
    "    ratings_matrix[user_idx, movie_idx] = rating\n",
    "\n",
    "# Printing the shape of ratings_matrix\n",
    "print(ratings_matrix.shape)\n",
    "\n",
    "# Printing the ratings_matrix\n",
    "print(ratings_matrix)"
   ]
  },
  {
   "cell_type": "code",
   "execution_count": 128,
   "id": "a8278395",
   "metadata": {},
   "outputs": [
    {
     "name": "stdout",
     "output_type": "stream",
     "text": [
      "User 10 Rated the movie:  3\n",
      "User 13 Rated the movie:  3\n",
      "User 18 Rated the movie:  2\n"
     ]
    }
   ],
   "source": [
    "movie_id = 1377\n",
    "user_ids_1377 = ratings_data[ratings_data['MovieID'] == movie_id]['UserID'].head(3).values\n",
    "\n",
    "movie_idx = np.where(movie_ids == movie_id)[0][0]\n",
    "\n",
    "for user_1 in user_ids_1377:\n",
    "    ratings_1377 = ratings_matrix[user_1-1, movie_idx]\n",
    "    print(\"User\",user_1, \"Rated the movie: \",ratings_1377 )"
   ]
  },
  {
   "cell_type": "code",
   "execution_count": 49,
   "id": "0dc9cfb5",
   "metadata": {},
   "outputs": [
    {
     "name": "stderr",
     "output_type": "stream",
     "text": [
      "C:\\Users\\nkulh\\AppData\\Local\\Temp\\ipykernel_45844\\2047042359.py:17: RuntimeWarning: invalid value encountered in true_divide\n",
      "  std_ratings[idx, j] = (ratings_matrix[idx, j] - mean_ratings[j]) / np.std(ratings_matrix[idx, j])\n"
     ]
    }
   ],
   "source": [
    "# Calculate mean by movie\n",
    "mean_ratings = np.zeros((num_movies,))\n",
    "for j in range(num_movies):\n",
    "    idx = np.where(ratings_matrix[:, j] != 0)\n",
    "    mean_ratings[j] = np.mean(ratings_matrix[idx, j])\n",
    "    \n",
    "# Replace missing values with the mean rating for the given movie\n",
    "for i in range(num_users):\n",
    "    for j in range(num_movies):\n",
    "        if ratings_matrix[i, j] == 0:\n",
    "            ratings_matrix[i, j] = mean_ratings[j]\n",
    "            \n",
    "# Subtract mean from original ratings and divide it by the standard deviation\n",
    "std_ratings = np.zeros((num_users, num_movies))\n",
    "for j in range(num_movies):\n",
    "    idx = np.where(ratings_matrix[:, j] != 0)\n",
    "    std_ratings[idx, j] = (ratings_matrix[idx, j] - mean_ratings[j]) / np.std(ratings_matrix[idx, j])\n",
    "    \n",
    "# Replace NaN values with 0\n",
    "std_ratings = np.nan_to_num(std_ratings, nan=0)"
   ]
  },
  {
   "cell_type": "code",
   "execution_count": 50,
   "id": "9a92a170",
   "metadata": {},
   "outputs": [
    {
     "name": "stdout",
     "output_type": "stream",
     "text": [
      "U shape:  (6040, 6040)\n",
      "S shape:  (3706,)\n",
      "V shape:  (3706, 3706)\n"
     ]
    }
   ],
   "source": [
    "# Compute the SVD of the normalised matrix\n",
    "u, s, vh = np.linalg.svd(std_ratings)\n",
    "\n",
    "# Print the shapes\n",
    "print(\"U shape: \", u.shape)\n",
    "print(\"S shape: \", s.shape)\n",
    "print(\"V shape: \", vh.shape)"
   ]
  },
  {
   "cell_type": "code",
   "execution_count": 130,
   "id": "486e48c1",
   "metadata": {},
   "outputs": [
    {
     "name": "stdout",
     "output_type": "stream",
     "text": [
      "For k = 100, User 10's original rating: 3, predicted rating: -0.82\n",
      "For k = 100, User 13's original rating: 3, predicted rating: -0.70\n",
      "For k = 100, User 18's original rating: 2, predicted rating: -0.77\n",
      "For k = 1000, User 10's original rating: 3, predicted rating: 0.11\n",
      "For k = 1000, User 13's original rating: 3, predicted rating: -0.70\n",
      "For k = 1000, User 18's original rating: 2, predicted rating: 0.20\n",
      "For k = 2000, User 10's original rating: 3, predicted rating: -0.38\n",
      "For k = 2000, User 13's original rating: 3, predicted rating: -0.62\n",
      "For k = 2000, User 18's original rating: 2, predicted rating: -0.71\n",
      "For k = 3000, User 10's original rating: 3, predicted rating: -0.71\n",
      "For k = 3000, User 13's original rating: 3, predicted rating: -0.64\n",
      "For k = 3000, User 18's original rating: 2, predicted rating: -0.70\n"
     ]
    }
   ],
   "source": [
    "# Define the k values\n",
    "k_values = [100, 1000, 2000, 3000]\n",
    "\n",
    "# Loop over the k values\n",
    "for k in k_values:\n",
    "    # Reconstruct the rank-k matrix\n",
    "    R_k = u[:, :k] @ np.diag(s[:k]) @ vh[:k, :]\n",
    "    if k == 1000:\n",
    "        Rk_1000 = R_k\n",
    "    # Make predictions for the selected users and movie\n",
    "    for user_id in [10,13,18]:\n",
    "        user_idx = user_id\n",
    "        movie_idx = 1376  # index starts from 0\n",
    "        \n",
    "        # Get the original rating\n",
    "        rating_original = ratings_data[(ratings_data[\"UserID\"] == user_id) & \n",
    "                                        (ratings_data[\"MovieID\"] == 1377)][\"Ratings\"].values[0]\n",
    "        \n",
    "        # Get the predicted rating\n",
    "        rating_predicted = R_k[user_idx, movie_idx]\n",
    "        \n",
    "        # Print the original and predicted ratings\n",
    "        print(\"For k = {}, User {}'s original rating: {}, predicted rating: {:.2f}\".format(k, user_id, rating_original, rating_predicted))"
   ]
  },
  {
   "cell_type": "code",
   "execution_count": 94,
   "id": "3d082e80",
   "metadata": {},
   "outputs": [
    {
     "name": "stdout",
     "output_type": "stream",
     "text": [
      "Most Similar movies: \n",
      "1. Bastard Out of Carolina (1996)\n",
      "2. Cyrano de Bergerac (1990)\n",
      "3. Somewhere in Time (1980)\n",
      "4. Xiu Xiu: The Sent-Down Girl (Tian yu) (1998)\n",
      "5. That Old Feeling (1997)\n"
     ]
    },
    {
     "name": "stderr",
     "output_type": "stream",
     "text": [
      "C:\\Users\\nkulh\\AppData\\Local\\Temp\\ipykernel_45844\\1845546627.py:8: RuntimeWarning: invalid value encountered in true_divide\n",
      "  sim_scores = np.nan_to_num(np.dot(data.T, movie_vec) / (np.linalg.norm(data, axis=0) * np.linalg.norm(movie_vec)))\n"
     ]
    }
   ],
   "source": [
    "def top_movie_similarity(data, movie_id, top_n=5):\n",
    "    # Get the column index for the given movie_id\n",
    "    movie_idx = movie_id-1\n",
    "    \n",
    "    # Get the column vector for the given movie\n",
    "    movie_vec = data[:, movie_idx]\n",
    "    # Calculate the cosine similarity between the given movie and all other movies\n",
    "    sim_scores = np.nan_to_num(np.dot(data.T, movie_vec) / (np.linalg.norm(data, axis=0) * np.linalg.norm(movie_vec)))\n",
    "    \n",
    "    # Sort the movies based on their similarity with the given movie\n",
    "    top_indices = np.argsort(-sim_scores)[:top_n]\n",
    "    top_scores = sim_scores[top_indices]\n",
    "    \n",
    "    return top_indices, top_scores\n",
    "def print_similar_movies(movie_titles, top_indices):\n",
    "    print('Most Similar movies: ')\n",
    "    for i, idx in enumerate(top_indices):\n",
    "        print(f'{i+1}. {movie_titles[idx]}')\n",
    "        \n",
    "# Find the top 5 similar movies for Batman Returns\n",
    "movie_id = 1377\n",
    "top_n = 5\n",
    "top_indices, top_scores = top_movie_similarity(Rk_1000, movie_id, top_n)\n",
    "\n",
    "movie_titles = movies_data[\"Title\"].tolist()\n",
    "\n",
    "# Print the top 5 similar movies\n",
    "print_similar_movies(movie_titles, top_indices)"
   ]
  },
  {
   "cell_type": "code",
   "execution_count": 146,
   "id": "b74636c1",
   "metadata": {},
   "outputs": [
    {
     "name": "stdout",
     "output_type": "stream",
     "text": [
      "4176\n",
      "Angel Heart (1987)\n",
      "Anguish (Angustia) (1986)\n",
      "Saludos Amigos (1943)\n",
      "Dinosaur (2000)\n",
      "Road Trip (2000)\n"
     ]
    }
   ],
   "source": [
    "# Calculate cosine similarity between user 5954 and all other users\n",
    "def top_user_similarity(data, user_id):\n",
    "    # Get row of user 5954\n",
    "    user_row = data[user_id-1]\n",
    "    # Calculate cosine similarity between user 5954 and all other users\n",
    "    sim_scores = np.dot(data, user_row)/(np.linalg.norm(data, axis=1)*np.linalg.norm(user_row))\n",
    "    # Sort similarity scores in descending order\n",
    "    sorted_scores = np.argsort(sim_scores)[::-1]\n",
    "    # Return the most similar user\n",
    "    return sorted_scores[1]\n",
    "\n",
    "# Find top movie recommendations for user 5954\n",
    "def get_movie_recommendations(data, user_id, top_n=5):\n",
    "    # Find most similar user\n",
    "    similar_user = top_user_similarity(data, user_id)\n",
    "    # Get rows of user 5954 and most similar user\n",
    "    #print(user)\n",
    "    user_row = data[user_id-1]\n",
    "    similar_user_row = data[similar_user]\n",
    "    # Find movies that similar user rated highly but user 5954 has not seen\n",
    "    unseen_movies = np.where(user_row == 0)[0]\n",
    "    similar_user_ratings = similar_user_row[unseen_movies]\n",
    "    # Sort unseen movies by rating from similar user in descending order\n",
    "    sorted_movies = np.argsort(similar_user_ratings)[::-1]\n",
    "    # Return top n movie recommendations\n",
    "    return unseen_movies[sorted_movies][:top_n]\n",
    "\n",
    "# Get movie recommendations for user 5954\n",
    "user_id = 5954\n",
    "#user = top_user_similarity(Rk_1000, user_id)\n",
    "recommendations = get_movie_recommendations(Rk_1000, user_id)\n",
    "#print(user)\n",
    "for movie in recommendations:\n",
    "    movie_id = movie+1\n",
    "    print(movies_data[movies_data['MovieID']==movie_id]['Title'].values[0])"
   ]
  },
  {
   "cell_type": "code",
   "execution_count": 149,
   "id": "3c167dcf",
   "metadata": {},
   "outputs": [
    {
     "name": "stdout",
     "output_type": "stream",
     "text": [
      "User 1, k=100 - Original Rating: 0.00, Predicted Rating: -0.63\n",
      "User 1, k=1000 - Original Rating: 0.00, Predicted Rating: -0.73\n",
      "User 1, k=2000 - Original Rating: 0.00, Predicted Rating: -0.67\n",
      "User 1, k=3000 - Original Rating: 0.00, Predicted Rating: -0.66\n",
      "User 2, k=100 - Original Rating: 0.00, Predicted Rating: -0.49\n",
      "User 2, k=1000 - Original Rating: 0.00, Predicted Rating: -0.13\n",
      "User 2, k=2000 - Original Rating: 0.00, Predicted Rating: -1.02\n",
      "User 2, k=3000 - Original Rating: 0.00, Predicted Rating: -0.59\n",
      "User 3, k=100 - Original Rating: 0.00, Predicted Rating: -0.70\n",
      "User 3, k=1000 - Original Rating: 0.00, Predicted Rating: -0.88\n",
      "User 3, k=2000 - Original Rating: 0.00, Predicted Rating: -0.94\n",
      "User 3, k=3000 - Original Rating: 0.00, Predicted Rating: -0.71\n"
     ]
    }
   ],
   "source": [
    "# Reconstructing four rank-k rating matrices\n",
    "k_values = [100, 1000, 2000, 3000]\n",
    "R_k = []\n",
    "\n",
    "for k in k_values:\n",
    "    # Construct the rank-k matrix using the formula Rk = Uk * Sk * V(k)T\n",
    "    Sk = np.diag(s[:k])\n",
    "    Uk = u[:, :k]\n",
    "    V_kT = vh[:k, :]\n",
    "    R_k.append(Uk @ Sk @ V_kT)\n",
    "\n",
    "# Make predictions for the 3 users selected in Question 1 for movie with ID 1377 (Batman Returns)\n",
    "user_ids = [320, 230, 450]\n",
    "movie_id = 1377\n",
    "for i, user_id in enumerate(user_ids):\n",
    "    original_rating = ratings_matrix[user_id - 1][movie_id - 1]\n",
    "    for j, R in enumerate(R_k):\n",
    "        predicted_rating = R[user_id - 1][movie_id - 1]\n",
    "        print(f\"User {i + 1}, k={k_values[j]} - Original Rating: {original_rating:.2f}, Predicted Rating: {predicted_rating:.2f}\")"
   ]
  },
  {
   "cell_type": "code",
   "execution_count": 152,
   "id": "463667d3",
   "metadata": {},
   "outputs": [
    {
     "name": "stdout",
     "output_type": "stream",
     "text": [
      "[ 778 3193 2738 5373 5866]\n"
     ]
    }
   ],
   "source": [
    "from sklearn.metrics.pairwise import cosine_similarity\n",
    "\n",
    "def top_movie_similarity(data, movie_id, top_n=5):\n",
    "    # Replace NaN values with 0\n",
    "    data = np.nan_to_num(data)\n",
    "    # Calculate cosine similarity\n",
    "    similarities = cosine_similarity(data)\n",
    "    # Get indices of the top_n most similar movies\n",
    "    similar_indices = similarities[movie_id - 1].argsort()[-top_n-1:-1][::-1]\n",
    "    return similar_indices\n",
    "\n",
    "def print_similar_movies(movie_titles, top_indices):\n",
    "    print('Most Similar movies: ')\n",
    "    for i, idx in enumerate(top_indices):\n",
    "        print(f\"{i+1}. {movie_titles[idx]}\")\n",
    "        \n",
    "# Print the top 5 movies for Batman Returns\n",
    "movie_id = 1376\n",
    "top_n = 5\n",
    "similar_indices = top_movie_similarity(R_k[1], movie_id, top_n=top_n)\n",
    "print(similar_indices)"
   ]
  },
  {
   "cell_type": "code",
   "execution_count": 153,
   "id": "97d5b058",
   "metadata": {},
   "outputs": [
    {
     "data": {
      "text/plain": [
       "array([[ 0.60927536, -0.4647619 , -1.15408805, ...,  0.        ,\n",
       "         0.        ,  0.        ],\n",
       "       [ 0.60927536,  0.        ,  0.        , ...,  0.        ,\n",
       "         0.        ,  0.        ],\n",
       "       [ 0.        ,  0.        ,  0.        , ...,  0.        ,\n",
       "         0.        ,  0.        ],\n",
       "       ...,\n",
       "       [ 0.        ,  0.        ,  0.        , ...,  0.        ,\n",
       "         0.        ,  0.        ],\n",
       "       [ 0.        , -0.4647619 , -0.15408805, ...,  0.        ,\n",
       "         0.        ,  0.        ],\n",
       "       [-0.39072464,  0.        ,  0.        , ...,  0.        ,\n",
       "         0.        ,  0.        ]])"
      ]
     },
     "execution_count": 153,
     "metadata": {},
     "output_type": "execute_result"
    }
   ],
   "source": [
    "# Compute column averages\n",
    "means = np.sum(ratings_matrix, axis=0) / np.count_nonzero(ratings_matrix, axis=0)\n",
    "\n",
    "# Replace missing ratings with column means\n",
    "filled_ratings_matrix = np.where(ratings_matrix == 0, means[np.newaxis, :], ratings_matrix)\n",
    "\n",
    "# Subtract column means from ratings matrix\n",
    "mean_centered_ratings_matrix = filled_ratings_matrix - means[np.newaxis, :]\n",
    "\n",
    "mean_centered_ratings_matrix"
   ]
  },
  {
   "cell_type": "code",
   "execution_count": 157,
   "id": "ad6d01e1",
   "metadata": {},
   "outputs": [
    {
     "data": {
      "text/plain": [
       "array([[ 1.84748076,  2.64189476,  1.96194218, ..., -0.01286819,\n",
       "        -0.01286819, -0.01286819],\n",
       "       [ 1.84748076, -0.2948044 , -0.33489154, ..., -0.01286819,\n",
       "        -0.01286819, -0.01286819],\n",
       "       [-0.61843982, -0.2948044 , -0.33489154, ..., -0.01286819,\n",
       "        -0.01286819, -0.01286819],\n",
       "       ...,\n",
       "       [-0.61843982, -0.2948044 , -0.33489154, ..., -0.01286819,\n",
       "        -0.01286819, -0.01286819],\n",
       "       [-0.61843982,  2.64189476,  2.72755342, ..., -0.01286819,\n",
       "        -0.01286819, -0.01286819],\n",
       "       [ 1.35429665, -0.2948044 , -0.33489154, ..., -0.01286819,\n",
       "        -0.01286819, -0.01286819]])"
      ]
     },
     "execution_count": 157,
     "metadata": {},
     "output_type": "execute_result"
    }
   ],
   "source": [
    "ratings_matrix = (ratings_matrix - ratings_matrix.mean(axis = 0))/ratings_matrix.std(axis = 0) #normalize the data\n",
    "\n",
    "\n",
    "# In[27]:\n",
    "\n",
    "\n",
    "ratings_matrix[np.isnan(ratings_matrix)] = 0 #replace nan values with 0.\n",
    "\n",
    "\n",
    "# In[274]:\n",
    "\n",
    "\n",
    "ratings_matrix"
   ]
  },
  {
   "cell_type": "code",
   "execution_count": null,
   "id": "ef7024e9",
   "metadata": {},
   "outputs": [],
   "source": []
  }
 ],
 "metadata": {
  "kernelspec": {
   "display_name": "Python 3 (ipykernel)",
   "language": "python",
   "name": "python3"
  },
  "language_info": {
   "codemirror_mode": {
    "name": "ipython",
    "version": 3
   },
   "file_extension": ".py",
   "mimetype": "text/x-python",
   "name": "python",
   "nbconvert_exporter": "python",
   "pygments_lexer": "ipython3",
   "version": "3.9.13"
  }
 },
 "nbformat": 4,
 "nbformat_minor": 5
}
