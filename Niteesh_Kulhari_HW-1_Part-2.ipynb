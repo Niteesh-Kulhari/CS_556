{
 "cells": [
  {
   "cell_type": "markdown",
   "id": "3610d6b0",
   "metadata": {},
   "source": [
    "# Part -1"
   ]
  },
  {
   "cell_type": "markdown",
   "id": "d384922f",
   "metadata": {},
   "source": [
    "Q1) Create a function to add two 3x3 matrices. Each matrix is represented as a list of lists. The function takes two parameters and returns the computed matrix. Do not use numpy for computation."
   ]
  },
  {
   "cell_type": "code",
   "execution_count": 59,
   "id": "e3f68e16",
   "metadata": {},
   "outputs": [
    {
     "name": "stdout",
     "output_type": "stream",
     "text": [
      "[17, 15, 4]\n",
      "[10, 12, 9]\n",
      "[11, 13, 18]\n"
     ]
    }
   ],
   "source": [
    "def add_matrixes(matrix_a, matrix_b):\n",
    "\n",
    "    result = [[0, 0, 0],\n",
    "              [0, 0, 0],\n",
    "              [0, 0, 0]]\n",
    "\n",
    "    for i in range(len(matrix_a)):\n",
    "        for j in range(len(matrix_a[0])):\n",
    "            result[i][j] = matrix_a[i][j] + matrix_b[i][j]\n",
    "    return result\n",
    "    \n",
    "        #print (matrix_a[i][j], matrix_b[i][j])\n",
    "\n",
    "\n",
    "X = [[12, 7, 3],\n",
    "     [4, 5, 6],\n",
    "     [7, 8, 9]]\n",
    "\n",
    "Y = [[5, 8, 1],\n",
    "     [6, 7, 3],\n",
    "     [4, 5, 9]]\n",
    "\n",
    "result = add_matrixes(X, Y)\n",
    "for r in result:\n",
    "        print(r)"
   ]
  },
  {
   "cell_type": "code",
   "execution_count": null,
   "id": "e39792f3",
   "metadata": {},
   "outputs": [],
   "source": [
    "###Q2) Now solve the above question using numpy "
   ]
  },
  {
   "cell_type": "code",
   "execution_count": 60,
   "id": "53d1c7b2",
   "metadata": {},
   "outputs": [
    {
     "name": "stdout",
     "output_type": "stream",
     "text": [
      "[[17 15  4]\n",
      " [10 12  9]\n",
      " [11 13 18]]\n"
     ]
    }
   ],
   "source": [
    "import numpy as np\n",
    "\n",
    "X = [[12, 7, 3],\n",
    "     [4, 5, 6],\n",
    "     [7, 8, 9]]\n",
    "\n",
    "Y = [[5, 8, 1],\n",
    "     [6, 7, 3],\n",
    "     [4, 5, 9]]\n",
    "\n",
    "output_array = np.add(X, Y)\n",
    "print(output_array)"
   ]
  },
  {
   "cell_type": "code",
   "execution_count": null,
   "id": "9695d218",
   "metadata": {},
   "outputs": [],
   "source": [
    "###Q3)  Create a function to multiply two 3x3 matrices. Each matrix is represented as a list of lists. The function takes \n",
    "two parameters and returns the computed matrix. Do not use numpy for computation."
   ]
  },
  {
   "cell_type": "code",
   "execution_count": 61,
   "id": "9173e6a2",
   "metadata": {},
   "outputs": [
    {
     "name": "stdout",
     "output_type": "stream",
     "text": [
      "[114, 160, 60, 27]\n",
      "[74, 97, 73, 14]\n",
      "[119, 157, 112, 23]\n"
     ]
    }
   ],
   "source": [
    "def multiply_matrixes(matrix_a, matrix_b):\n",
    "\n",
    "    result = [[0, 0, 0, 0],\n",
    "              [0, 0, 0, 0],\n",
    "              [0, 0, 0, 0]]\n",
    "\n",
    "    for i in range(len(matrix_a)):\n",
    "        for j in range(len(matrix_b[0])):\n",
    "            for k in range(len(matrix_b)):\n",
    "                result[i][j] += matrix_a[i][k] * matrix_b[k][j]     \n",
    "\n",
    "    return result\n",
    "\n",
    "X = [[12,7,3],\n",
    "    [4 ,5,6],\n",
    "    [7 ,8,9]]\n",
    "\n",
    "Y = [[5,8,1,2],\n",
    "    [6,7,3,0],\n",
    "    [4,5,9,1]]\n",
    "\n",
    "result = multiply_matrixes(X, Y)\n",
    "for r in result:\n",
    "        print(r)"
   ]
  },
  {
   "cell_type": "markdown",
   "id": "af2e7f23",
   "metadata": {},
   "source": [
    " Q4) Now solve the above question using numpy"
   ]
  },
  {
   "cell_type": "code",
   "execution_count": 62,
   "id": "7aef593a",
   "metadata": {},
   "outputs": [
    {
     "name": "stdout",
     "output_type": "stream",
     "text": [
      "[[114 160  60  27]\n",
      " [ 74  97  73  14]\n",
      " [119 157 112  23]]\n"
     ]
    }
   ],
   "source": [
    "X = [[12,7,3],\n",
    "    [4 ,5,6],\n",
    "    [7 ,8,9]]\n",
    "\n",
    "Y = [[5,8,1,2],\n",
    "    [6,7,3,0],\n",
    "    [4,5,9,1]]\n",
    "\n",
    "output_array = np.dot(X,Y)\n",
    "print(output_array)"
   ]
  },
  {
   "cell_type": "markdown",
   "id": "9cc58147",
   "metadata": {},
   "source": [
    " Q5) Create a function to find transpose of a matrices. Matrix is represented as a list of lists. The function takes one parameters and returns the computed matrix. Do not use numpy for computation."
   ]
  },
  {
   "cell_type": "code",
   "execution_count": 63,
   "id": "7d592c76",
   "metadata": {},
   "outputs": [
    {
     "name": "stdout",
     "output_type": "stream",
     "text": [
      "[12, 4, 3]\n",
      "[7, 5, 8]\n"
     ]
    }
   ],
   "source": [
    "def transpose_matrix(matrix_a):\n",
    "    \n",
    "    result = [[0, 0, 0],\n",
    "              [0, 0, 0]]\n",
    "    for i in range(len(matrix_a)):\n",
    "        for j in range(len(matrix_a[0])):\n",
    "            result[j][i] = matrix_a[i][j]\n",
    "    \n",
    "    return result\n",
    "\n",
    "X = [[12,7],\n",
    "    [4 ,5],\n",
    "    [3 ,8]]\n",
    "#print(len(X))\n",
    "\n",
    "result = transpose_matrix(X)\n",
    "for r in result:\n",
    "        print(r)"
   ]
  },
  {
   "cell_type": "markdown",
   "id": "75a4d763",
   "metadata": {},
   "source": [
    "Q7) Create a function to find inverse of a matrix. Matrix is represented as a list of lists. The function takes one parameters and returns the computed matrix. You can use numpy. "
   ]
  },
  {
   "cell_type": "code",
   "execution_count": 64,
   "id": "f35eeeb9",
   "metadata": {},
   "outputs": [
    {
     "name": "stdout",
     "output_type": "stream",
     "text": [
      "[ 5. -7.]\n",
      "[-2.  3.]\n"
     ]
    }
   ],
   "source": [
    "def inverse_matrix(matrix_a):\n",
    "    return np.linalg.inv(matrix_a)\n",
    "\n",
    "X= [[3, 7],\n",
    "    [2, 5]]\n",
    "\n",
    "result = inverse_matrix(X)\n",
    "\n",
    "for r in result:\n",
    "    print(r)"
   ]
  },
  {
   "cell_type": "markdown",
   "id": "b861f0f2",
   "metadata": {},
   "source": [
    "# Part 2"
   ]
  },
  {
   "attachments": {},
   "cell_type": "markdown",
   "id": "86eed1af",
   "metadata": {},
   "source": [
    "###1. Import the necessary libraries. For this assignment, we'll need `numpy`, `matplotlib.pyplot`, and `pandas`. For some of the longer module names, remember we can alias them using `as` to make their types easier to work with."
   ]
  },
  {
   "cell_type": "code",
   "execution_count": 65,
   "id": "6c05b88e",
   "metadata": {},
   "outputs": [],
   "source": [
    "import numpy as np\n",
    "import matplotlib.pyplot as mp\n",
    "import pandas as pa"
   ]
  },
  {
   "attachments": {},
   "cell_type": "markdown",
   "id": "81f2120f",
   "metadata": {},
   "source": [
    "###2. Open and load the CSV file `Salary_Data.csv` into a Pandas dataframe. Name the dataframe variable something unique, like 'data' or 'df'. Remember that for CSV files, there's a built-in Pandas function for reading their data."
   ]
  },
  {
   "cell_type": "code",
   "execution_count": 66,
   "id": "24e02aae",
   "metadata": {},
   "outputs": [],
   "source": [
    "df = pa.read_csv(\"salary_data.csv\")"
   ]
  },
  {
   "attachments": {},
   "cell_type": "markdown",
   "id": "ff5ca4ec",
   "metadata": {},
   "source": [
    "###3. Use the dataframe you created to print the first 5 items (the 'head') to the output. Utilize Pandas' built-in functions for this!"
   ]
  },
  {
   "cell_type": "code",
   "execution_count": 67,
   "id": "92fb380e",
   "metadata": {},
   "outputs": [
    {
     "data": {
      "text/html": [
       "<div>\n",
       "<style scoped>\n",
       "    .dataframe tbody tr th:only-of-type {\n",
       "        vertical-align: middle;\n",
       "    }\n",
       "\n",
       "    .dataframe tbody tr th {\n",
       "        vertical-align: top;\n",
       "    }\n",
       "\n",
       "    .dataframe thead th {\n",
       "        text-align: right;\n",
       "    }\n",
       "</style>\n",
       "<table border=\"1\" class=\"dataframe\">\n",
       "  <thead>\n",
       "    <tr style=\"text-align: right;\">\n",
       "      <th></th>\n",
       "      <th>YearsExperience</th>\n",
       "      <th>Salary</th>\n",
       "    </tr>\n",
       "  </thead>\n",
       "  <tbody>\n",
       "    <tr>\n",
       "      <th>0</th>\n",
       "      <td>1.1</td>\n",
       "      <td>39343.0</td>\n",
       "    </tr>\n",
       "    <tr>\n",
       "      <th>1</th>\n",
       "      <td>1.3</td>\n",
       "      <td>46205.0</td>\n",
       "    </tr>\n",
       "    <tr>\n",
       "      <th>2</th>\n",
       "      <td>1.5</td>\n",
       "      <td>37731.0</td>\n",
       "    </tr>\n",
       "    <tr>\n",
       "      <th>3</th>\n",
       "      <td>2.0</td>\n",
       "      <td>43525.0</td>\n",
       "    </tr>\n",
       "    <tr>\n",
       "      <th>4</th>\n",
       "      <td>2.2</td>\n",
       "      <td>39891.0</td>\n",
       "    </tr>\n",
       "  </tbody>\n",
       "</table>\n",
       "</div>"
      ],
      "text/plain": [
       "   YearsExperience   Salary\n",
       "0              1.1  39343.0\n",
       "1              1.3  46205.0\n",
       "2              1.5  37731.0\n",
       "3              2.0  43525.0\n",
       "4              2.2  39891.0"
      ]
     },
     "execution_count": 67,
     "metadata": {},
     "output_type": "execute_result"
    }
   ],
   "source": [
    "df.head()"
   ]
  },
  {
   "attachments": {},
   "cell_type": "markdown",
   "id": "0d444696",
   "metadata": {},
   "source": [
    "###4. Create a scatter plot using the Pandas dataframe. Make the X-axis years of experience, and the Y-axis the corresponding salary. Output the result. If you've done everything up to this point correctly, it should look like the following image:"
   ]
  },
  {
   "cell_type": "code",
   "execution_count": 68,
   "id": "d513192d",
   "metadata": {},
   "outputs": [
    {
     "data": {
      "text/plain": [
       "<AxesSubplot:xlabel='YearsExperience', ylabel='Salary'>"
      ]
     },
     "execution_count": 68,
     "metadata": {},
     "output_type": "execute_result"
    },
    {
     "data": {
      "image/png": "[encoded data removed]",
      "text/plain": [
       "<Figure size 640x480 with 1 Axes>"
      ]
     },
     "metadata": {},
     "output_type": "display_data"
    }
   ],
   "source": [
    "df.plot.scatter(x = 'YearsExperience', y = 'Salary' )"
   ]
  },
  {
   "attachments": {},
   "cell_type": "markdown",
   "id": "c338f225",
   "metadata": {},
   "source": [
    "5. Implement the Least Squares approximation, to find a straight line that best approximates the data we've been provided with and plotted in the previous question. We'll be implementing this system manually - you're **not** allowed to use an external library like `numpy.linalg` to solve. You will, however, want to use the `numpy` constructions for numbers and matrices we already imported to manipulate your data."
   ]
  },
  {
   "cell_type": "code",
   "execution_count": 69,
   "id": "acc4d6d7",
   "metadata": {},
   "outputs": [],
   "source": [
    "# Collecting X and Y\n",
    "X = df['YearsExperience'].values\n",
    "Y = df['Salary'].values\n",
    "# Calculating theta0, theta1\n",
    "\n",
    "# Mean X and Y\n",
    "X_mean = np.mean(X)\n",
    "Y_mean = np.mean(Y)\n",
    " \n",
    "\n",
    "numer = 0\n",
    "denom = 0\n",
    "\n",
    "for i in range(len(X)):\n",
    "  numer += (X[i] - X_mean) * (Y[i] - Y_mean)\n",
    "  denom += (X[i] - X_mean) ** 2\n",
    "  θ_1 = numer / denom\n",
    "  θ_0 = Y_mean - (θ_1 * X_mean)"
   ]
  },
  {
   "attachments": {},
   "cell_type": "markdown",
   "id": "6606d19f",
   "metadata": {},
   "source": [
    "###6. On top of the scatter plot you created in part **4**, we now want to use our calculated $\\theta$ to draw our approximate linear regression onto the plot surface. Start with the plot from earlier, and then use the `matplotlib.pyplot.plot` function to plot the predicted line from an array of $x_{pred}$ and $y_{pred}$ predictions. You'll need to likely compute $A$ for each section of the line in order to compute $y=A \\cdot"
   ]
  },
  {
   "cell_type": "code",
   "execution_count": 70,
   "id": "e5398e11",
   "metadata": {},
   "outputs": [
    {
     "data": {
      "text/plain": [
       "[<matplotlib.lines.Line2D at 0x1da3fb73040>]"
      ]
     },
     "execution_count": 70,
     "metadata": {},
     "output_type": "execute_result"
    },
    {
     "data": {
      "image/png": "[encoded data removed]",
      "text/plain": [
       "<Figure size 640x480 with 1 Axes>"
      ]
     },
     "metadata": {},
     "output_type": "display_data"
    }
   ],
   "source": [
    "X = df['YearsExperience'].values\n",
    "Y = df['Salary'].values\n",
    "df.plot.scatter(x = 'YearsExperience', y = 'Salary' )\n",
    "mp.plot(X, θ_1*X + θ_0, color=\"red\")"
   ]
  },
  {
   "cell_type": "code",
   "execution_count": null,
   "id": "67208bd1",
   "metadata": {},
   "outputs": [],
   "source": []
  }
 ],
 "metadata": {
  "kernelspec": {
   "display_name": "Python 3 (ipykernel)",
   "language": "python",
   "name": "python3"
  },
  "language_info": {
   "codemirror_mode": {
    "name": "ipython",
    "version": 3
   },
   "file_extension": ".py",
   "mimetype": "text/x-python",
   "name": "python",
   "nbconvert_exporter": "python",
   "pygments_lexer": "ipython3",
   "version": "3.9.13"
  }
 },
 "nbformat": 4,
 "nbformat_minor": 5
}
