{
  "cells": [
    {
      "cell_type": "markdown",
      "metadata": {
        "id": "D0mRmZTqxc4x"
      },
      "source": [
        "# Predicting Heart Diseases with Logistic Regression and SVM"
      ]
    },
    {
      "cell_type": "markdown",
      "metadata": {
        "id": "91oYpRxqxc4y"
      },
      "source": [
        "At this stage in the course, you're familiar with the steps required in a Data Science project. This lab will bring everything you've learned together and guide you through the process."
      ]
    },
    {
      "cell_type": "markdown",
      "metadata": {
        "id": "XRcFlME1xc4y"
      },
      "source": [
        "### Import Libraries"
      ]
    },
    {
      "cell_type": "markdown",
      "metadata": {
        "id": "7b-t03Jhxc4y"
      },
      "source": [
        "Import the libraries that you will use to do the lab. (Pandas, Numpy, mathplotlib, sklearn, etc)"
      ]
    },
    {
      "cell_type": "code",
      "execution_count": null,
      "metadata": {
        "id": "h4Alo9dWxc4z"
      },
      "outputs": [],
      "source": [
        "### TODO: Import libraries\n",
        "import pandas as pd\n",
        "import seaborn as sns\n"
      ]
    },
    {
      "cell_type": "markdown",
      "metadata": {
        "id": "0S1aS466xc4z"
      },
      "source": [
        "### The Data\n",
        "\n",
        "The \"Framingham\" heart disease dataset includes over 1289 records,16 columns and 15 attributes. The goal of the dataset is to predict whether the patient has 10-year risk of future (CHD) coronary heart disease\n"
      ]
    },
    {
      "cell_type": "markdown",
      "metadata": {
        "id": "vvVQ96PAxc40"
      },
      "source": [
        "Read the framingham.csv file into a pandas dataframe. Use read_csv method of pandas (https://pandas.pydata.org/docs/reference/api/pandas.read_csv.html) "
      ]
    },
    {
      "cell_type": "code",
      "execution_count": null,
      "metadata": {
        "id": "FFxclYOGxc40"
      },
      "outputs": [],
      "source": [
        "# TODO: Read in the data\n",
        "DF = pd.read_csv('/content/framingham.csv')"
      ]
    },
    {
      "cell_type": "code",
      "execution_count": null,
      "metadata": {
        "colab": {
          "base_uri": "https://localhost:8080/",
          "height": 206
        },
        "id": "rLwUW5R5xc40",
        "outputId": "b3dac42c-738c-4030-bde3-cd34da02ecef"
      },
      "outputs": [
        {
          "output_type": "execute_result",
          "data": {
            "text/plain": [
              "   male  age  education  currentSmoker  cigsPerDay  BPMeds  prevalentStroke  \\\n",
              "0     0   37        2.0              1        30.0     0.0                0   \n",
              "1     0   61        1.0              0         0.0     0.0                0   \n",
              "2     1   44        2.0              1        15.0     0.0                0   \n",
              "3     1   47        3.0              1        15.0     0.0                0   \n",
              "4     0   41        3.0              1         3.0     0.0                0   \n",
              "\n",
              "   prevalentHyp  diabetes  totChol  sysBP  diaBP    BMI  heartRate  glucose  \\\n",
              "0             0         0      NaN  115.0   79.0  28.41       85.0      NaN   \n",
              "1             0         0      NaN  115.0   60.0  25.50       76.0     99.0   \n",
              "2             0         0    209.0  127.0   86.0  26.41       85.0     88.0   \n",
              "3             1         0    220.0  127.0   93.0  30.70       82.0     57.0   \n",
              "4             0         0    140.0  110.0   60.0  23.38       65.0     82.0   \n",
              "\n",
              "   TenYearCHD  \n",
              "0           0  \n",
              "1           0  \n",
              "2           0  \n",
              "3           0  \n",
              "4           0  "
            ],
            "text/html": [
              "\n",
              "  <div id=\"df-c917e99c-8c0d-48eb-9bde-99802fe50bcc\">\n",
              "    <div class=\"colab-df-container\">\n",
              "      <div>\n",
              "<style scoped>\n",
              "    .dataframe tbody tr th:only-of-type {\n",
              "        vertical-align: middle;\n",
              "    }\n",
              "\n",
              "    .dataframe tbody tr th {\n",
              "        vertical-align: top;\n",
              "    }\n",
              "\n",
              "    .dataframe thead th {\n",
              "        text-align: right;\n",
              "    }\n",
              "</style>\n",
              "<table border=\"1\" class=\"dataframe\">\n",
              "  <thead>\n",
              "    <tr style=\"text-align: right;\">\n",
              "      <th></th>\n",
              "      <th>male</th>\n",
              "      <th>age</th>\n",
              "      <th>education</th>\n",
              "      <th>currentSmoker</th>\n",
              "      <th>cigsPerDay</th>\n",
              "      <th>BPMeds</th>\n",
              "      <th>prevalentStroke</th>\n",
              "      <th>prevalentHyp</th>\n",
              "      <th>diabetes</th>\n",
              "      <th>totChol</th>\n",
              "      <th>sysBP</th>\n",
              "      <th>diaBP</th>\n",
              "      <th>BMI</th>\n",
              "      <th>heartRate</th>\n",
              "      <th>glucose</th>\n",
              "      <th>TenYearCHD</th>\n",
              "    </tr>\n",
              "  </thead>\n",
              "  <tbody>\n",
              "    <tr>\n",
              "      <th>0</th>\n",
              "      <td>0</td>\n",
              "      <td>37</td>\n",
              "      <td>2.0</td>\n",
              "      <td>1</td>\n",
              "      <td>30.0</td>\n",
              "      <td>0.0</td>\n",
              "      <td>0</td>\n",
              "      <td>0</td>\n",
              "      <td>0</td>\n",
              "      <td>NaN</td>\n",
              "      <td>115.0</td>\n",
              "      <td>79.0</td>\n",
              "      <td>28.41</td>\n",
              "      <td>85.0</td>\n",
              "      <td>NaN</td>\n",
              "      <td>0</td>\n",
              "    </tr>\n",
              "    <tr>\n",
              "      <th>1</th>\n",
              "      <td>0</td>\n",
              "      <td>61</td>\n",
              "      <td>1.0</td>\n",
              "      <td>0</td>\n",
              "      <td>0.0</td>\n",
              "      <td>0.0</td>\n",
              "      <td>0</td>\n",
              "      <td>0</td>\n",
              "      <td>0</td>\n",
              "      <td>NaN</td>\n",
              "      <td>115.0</td>\n",
              "      <td>60.0</td>\n",
              "      <td>25.50</td>\n",
              "      <td>76.0</td>\n",
              "      <td>99.0</td>\n",
              "      <td>0</td>\n",
              "    </tr>\n",
              "    <tr>\n",
              "      <th>2</th>\n",
              "      <td>1</td>\n",
              "      <td>44</td>\n",
              "      <td>2.0</td>\n",
              "      <td>1</td>\n",
              "      <td>15.0</td>\n",
              "      <td>0.0</td>\n",
              "      <td>0</td>\n",
              "      <td>0</td>\n",
              "      <td>0</td>\n",
              "      <td>209.0</td>\n",
              "      <td>127.0</td>\n",
              "      <td>86.0</td>\n",
              "      <td>26.41</td>\n",
              "      <td>85.0</td>\n",
              "      <td>88.0</td>\n",
              "      <td>0</td>\n",
              "    </tr>\n",
              "    <tr>\n",
              "      <th>3</th>\n",
              "      <td>1</td>\n",
              "      <td>47</td>\n",
              "      <td>3.0</td>\n",
              "      <td>1</td>\n",
              "      <td>15.0</td>\n",
              "      <td>0.0</td>\n",
              "      <td>0</td>\n",
              "      <td>1</td>\n",
              "      <td>0</td>\n",
              "      <td>220.0</td>\n",
              "      <td>127.0</td>\n",
              "      <td>93.0</td>\n",
              "      <td>30.70</td>\n",
              "      <td>82.0</td>\n",
              "      <td>57.0</td>\n",
              "      <td>0</td>\n",
              "    </tr>\n",
              "    <tr>\n",
              "      <th>4</th>\n",
              "      <td>0</td>\n",
              "      <td>41</td>\n",
              "      <td>3.0</td>\n",
              "      <td>1</td>\n",
              "      <td>3.0</td>\n",
              "      <td>0.0</td>\n",
              "      <td>0</td>\n",
              "      <td>0</td>\n",
              "      <td>0</td>\n",
              "      <td>140.0</td>\n",
              "      <td>110.0</td>\n",
              "      <td>60.0</td>\n",
              "      <td>23.38</td>\n",
              "      <td>65.0</td>\n",
              "      <td>82.0</td>\n",
              "      <td>0</td>\n",
              "    </tr>\n",
              "  </tbody>\n",
              "</table>\n",
              "</div>\n",
              "      <button class=\"colab-df-convert\" onclick=\"convertToInteractive('df-c917e99c-8c0d-48eb-9bde-99802fe50bcc')\"\n",
              "              title=\"Convert this dataframe to an interactive table.\"\n",
              "              style=\"display:none;\">\n",
              "        \n",
              "  <svg xmlns=\"http://www.w3.org/2000/svg\" height=\"24px\"viewBox=\"0 0 24 24\"\n",
              "       width=\"24px\">\n",
              "    <path d=\"M0 0h24v24H0V0z\" fill=\"none\"/>\n",
              "    <path d=\"M18.56 5.44l.94 2.06.94-2.06 2.06-.94-2.06-.94-.94-2.06-.94 2.06-2.06.94zm-11 1L8.5 8.5l.94-2.06 2.06-.94-2.06-.94L8.5 2.5l-.94 2.06-2.06.94zm10 10l.94 2.06.94-2.06 2.06-.94-2.06-.94-.94-2.06-.94 2.06-2.06.94z\"/><path d=\"M17.41 7.96l-1.37-1.37c-.4-.4-.92-.59-1.43-.59-.52 0-1.04.2-1.43.59L10.3 9.45l-7.72 7.72c-.78.78-.78 2.05 0 2.83L4 21.41c.39.39.9.59 1.41.59.51 0 1.02-.2 1.41-.59l7.78-7.78 2.81-2.81c.8-.78.8-2.07 0-2.86zM5.41 20L4 18.59l7.72-7.72 1.47 1.35L5.41 20z\"/>\n",
              "  </svg>\n",
              "      </button>\n",
              "      \n",
              "  <style>\n",
              "    .colab-df-container {\n",
              "      display:flex;\n",
              "      flex-wrap:wrap;\n",
              "      gap: 12px;\n",
              "    }\n",
              "\n",
              "    .colab-df-convert {\n",
              "      background-color: #E8F0FE;\n",
              "      border: none;\n",
              "      border-radius: 50%;\n",
              "      cursor: pointer;\n",
              "      display: none;\n",
              "      fill: #1967D2;\n",
              "      height: 32px;\n",
              "      padding: 0 0 0 0;\n",
              "      width: 32px;\n",
              "    }\n",
              "\n",
              "    .colab-df-convert:hover {\n",
              "      background-color: #E2EBFA;\n",
              "      box-shadow: 0px 1px 2px rgba(60, 64, 67, 0.3), 0px 1px 3px 1px rgba(60, 64, 67, 0.15);\n",
              "      fill: #174EA6;\n",
              "    }\n",
              "\n",
              "    [theme=dark] .colab-df-convert {\n",
              "      background-color: #3B4455;\n",
              "      fill: #D2E3FC;\n",
              "    }\n",
              "\n",
              "    [theme=dark] .colab-df-convert:hover {\n",
              "      background-color: #434B5C;\n",
              "      box-shadow: 0px 1px 3px 1px rgba(0, 0, 0, 0.15);\n",
              "      filter: drop-shadow(0px 1px 2px rgba(0, 0, 0, 0.3));\n",
              "      fill: #FFFFFF;\n",
              "    }\n",
              "  </style>\n",
              "\n",
              "      <script>\n",
              "        const buttonEl =\n",
              "          document.querySelector('#df-c917e99c-8c0d-48eb-9bde-99802fe50bcc button.colab-df-convert');\n",
              "        buttonEl.style.display =\n",
              "          google.colab.kernel.accessAllowed ? 'block' : 'none';\n",
              "\n",
              "        async function convertToInteractive(key) {\n",
              "          const element = document.querySelector('#df-c917e99c-8c0d-48eb-9bde-99802fe50bcc');\n",
              "          const dataTable =\n",
              "            await google.colab.kernel.invokeFunction('convertToInteractive',\n",
              "                                                     [key], {});\n",
              "          if (!dataTable) return;\n",
              "\n",
              "          const docLinkHtml = 'Like what you see? Visit the ' +\n",
              "            '<a target=\"_blank\" href=https://colab.research.google.com/notebooks/data_table.ipynb>data table notebook</a>'\n",
              "            + ' to learn more about interactive tables.';\n",
              "          element.innerHTML = '';\n",
              "          dataTable['output_type'] = 'display_data';\n",
              "          await google.colab.output.renderOutput(dataTable, element);\n",
              "          const docLink = document.createElement('div');\n",
              "          docLink.innerHTML = docLinkHtml;\n",
              "          element.appendChild(docLink);\n",
              "        }\n",
              "      </script>\n",
              "    </div>\n",
              "  </div>\n",
              "  "
            ]
          },
          "metadata": {},
          "execution_count": 6
        }
      ],
      "source": [
        "# TODO: Output the head of the DataFrame.\n",
        "DF.head()\n"
      ]
    },
    {
      "cell_type": "markdown",
      "metadata": {
        "id": "aIrifez_xc41"
      },
      "source": [
        "## Exploratory Data Analysis\n",
        "\n",
        "Exploratory data analysis is an essential step that helps us understand our data in a descriptive manner. Understanding our data helps us prioritize how to clean, modify and featurize it to make it ready for ML models. Let's begin some exploratory data analysis! We'll start by checking out missing data!\n",
        "\n",
        "#### Missing Data\n",
        "\n",
        "We can use seaborn to create a simple heatmap to see where we are missing data! https://seaborn.pydata.org/generated/seaborn.heatmap.html"
      ]
    },
    {
      "cell_type": "code",
      "execution_count": null,
      "metadata": {
        "colab": {
          "base_uri": "https://localhost:8080/",
          "height": 533
        },
        "id": "pRG4BlU8xc41",
        "outputId": "143c1424-b0ca-4fca-fa3c-46d2ddf4e45d"
      },
      "outputs": [
        {
          "output_type": "display_data",
          "data": {
            "text/plain": [
              "<Figure size 640x480 with 2 Axes>"
            ],
            "image/png": "[encoded data removed]"
          },
          "metadata": {}
        }
      ],
      "source": [
        "# TODO: Create a heatmap of the DataFrame to visualize missing data\n",
        "ax = sns.heatmap(DF)"
      ]
    },
    {
      "cell_type": "markdown",
      "metadata": {
        "id": "134Awykqxc41"
      },
      "source": [
        "Now that we have visualized our missing data, there are muliple ways to tackle it. If not a lot of data is missing under each column(feature) we can use techniques to replace the data, such as replacing it with mean, median or mode. However, if a lot of data is missing ( say about > 90%) then it may be better to drop the feature altogether, since then replacing the missing values can cause a change in the inherent structure of the data. In this lab, we will drop all rows with missing data, but feel free to try using different techniques too."
      ]
    },
    {
      "cell_type": "markdown",
      "metadata": {
        "id": "qnOl1Fv4xc41"
      },
      "source": [
        "### Drop Missing Data\n",
        "\n",
        "Use method dropna of pandas to remove missing values. https://pandas.pydata.org/docs/reference/api/pandas.DataFrame.dropna.html"
      ]
    },
    {
      "cell_type": "code",
      "execution_count": 41,
      "metadata": {
        "id": "Zlx9Q94Lxc41"
      },
      "outputs": [],
      "source": [
        "# TODO: Drop the rows with missing data\n",
        "DF.dropna(inplace= True)"
      ]
    },
    {
      "cell_type": "markdown",
      "metadata": {
        "id": "YnFllJQWxc42"
      },
      "source": [
        "### Visualize the data to see if classes are balanced"
      ]
    },
    {
      "cell_type": "markdown",
      "metadata": {
        "id": "_uKXGsqlxc42"
      },
      "source": [
        "Class(Target Variable) imbalance is very problematic since it can lead to biases in models. If we have a dataset where 90% target variables are 1 and 10% target varuiables are 0, then we can just predict every data point as 1. This way, we will have 90% accuracy on our dataset, but this is wrong. We can deal with class imbalance using upsampling, downsampling and SMOTE."
      ]
    },
    {
      "cell_type": "markdown",
      "metadata": {
        "id": "wfPlTa33xc42"
      },
      "source": [
        "Use method countplot of seaborn to plot the number of people with and without heart disease (TenYearCHD). Refer to: https://seaborn.pydata.org/generated/seaborn.countplot.html"
      ]
    },
    {
      "cell_type": "code",
      "execution_count": 47,
      "metadata": {
        "id": "pK0PCPQ6xc42",
        "colab": {
          "base_uri": "https://localhost:8080/",
          "height": 466
        },
        "outputId": "7062ca91-995b-487d-f57b-c03354a61144"
      },
      "outputs": [
        {
          "output_type": "execute_result",
          "data": {
            "text/plain": [
              "<Axes: xlabel='TenYearCHD', ylabel='count'>"
            ]
          },
          "metadata": {},
          "execution_count": 47
        },
        {
          "output_type": "display_data",
          "data": {
            "text/plain": [
              "<Figure size 640x480 with 1 Axes>"
            ],
            "image/png": "[encoded data removed]"
          },
          "metadata": {}
        }
      ],
      "source": [
        "# TODO: Plot the count of people with and without heart disease (TenYearCHD)\n",
        "sns.countplot(data=DF, x='TenYearCHD')"
      ]
    },
    {
      "cell_type": "markdown",
      "metadata": {
        "id": "JBQbcmgYxc42"
      },
      "source": [
        "We see that our classes are not imbalanced"
      ]
    },
    {
      "cell_type": "markdown",
      "metadata": {
        "id": "YZ1ZovbTxc42"
      },
      "source": [
        "We can also see the distribution of classes grouped by gender. Display the distribution as a countplot. "
      ]
    },
    {
      "cell_type": "code",
      "execution_count": 48,
      "metadata": {
        "id": "eSQRxGxexc42",
        "outputId": "6c162ed1-ecbc-4593-aba5-8718845a047e",
        "colab": {
          "base_uri": "https://localhost:8080/",
          "height": 466
        }
      },
      "outputs": [
        {
          "output_type": "execute_result",
          "data": {
            "text/plain": [
              "<Axes: xlabel='TenYearCHD', ylabel='count'>"
            ]
          },
          "metadata": {},
          "execution_count": 48
        },
        {
          "output_type": "display_data",
          "data": {
            "text/plain": [
              "<Figure size 640x480 with 1 Axes>"
            ],
            "image/png": "[encoded data removed]"
          },
          "metadata": {}
        }
      ],
      "source": [
        "# TODO: Group the data by gender\n",
        "sns.countplot(data=DF, x='TenYearCHD', hue='male')"
      ]
    },
    {
      "cell_type": "markdown",
      "metadata": {
        "id": "MGhnud2_xc43"
      },
      "source": [
        "All of this exploratory data analysis gives us a good idea about our dataset."
      ]
    },
    {
      "cell_type": "markdown",
      "metadata": {
        "id": "lC2ZSqTyxc43"
      },
      "source": [
        "### Data Standardization "
      ]
    },
    {
      "cell_type": "markdown",
      "metadata": {
        "id": "OAOFBvEqxc43"
      },
      "source": [
        "Data standardization is a data processing workflow that converts the structure of different datasets into one common format of data. It deals with the transformation of datasets after the data are collected from different sources and before it is loaded into models."
      ]
    },
    {
      "cell_type": "markdown",
      "metadata": {
        "id": "LEUkItrCxc43"
      },
      "source": [
        "We will use the StandardScaler library to standardize the data :- https://scikit-learn.org/stable/modules/generated/sklearn.preprocessing.StandardScaler.html"
      ]
    },
    {
      "cell_type": "code",
      "execution_count": 61,
      "metadata": {
        "id": "X_b8ej49xc43"
      },
      "outputs": [],
      "source": [
        "# TODO: Import the library\n",
        "from sklearn.preprocessing import StandardScaler\n",
        "from sklearn.model_selection import train_test_split\n",
        "\n"
      ]
    },
    {
      "cell_type": "code",
      "execution_count": 57,
      "metadata": {
        "id": "bhtXolbGxc43"
      },
      "outputs": [],
      "source": [
        "# TODO: Make a list of all numeric features of our dataset\n",
        "numeric_features = ['age','cigsPerDay','totChol','sysBP','diaBP','BMI','heartRate','glucose']\n",
        "X = DF[numeric_features]"
      ]
    },
    {
      "cell_type": "markdown",
      "metadata": {
        "id": "wyat0Eyrxc43"
      },
      "source": [
        "Now apply fit_transform() method of Standard Scaler to normalize all numeric features. "
      ]
    },
    {
      "cell_type": "code",
      "execution_count": 58,
      "metadata": {
        "id": "7kHW7RWqxc43"
      },
      "outputs": [],
      "source": [
        "# TODO: Normalize the numeric features\n",
        "stand = StandardScaler()\n",
        "fit = stand.fit_transform(X)\n",
        "DF[numeric_features] = fit"
      ]
    },
    {
      "cell_type": "code",
      "execution_count": 60,
      "metadata": {
        "id": "mQzmdaBDxc44",
        "outputId": "9719c891-0085-4ca2-bef3-8ee29c3e65c1",
        "colab": {
          "base_uri": "https://localhost:8080/",
          "height": 270
        }
      },
      "outputs": [
        {
          "output_type": "execute_result",
          "data": {
            "text/plain": [
              "   male       age  education  currentSmoker  cigsPerDay  BPMeds  \\\n",
              "2     1 -0.852262        2.0              1    0.431861     0.0   \n",
              "3     1 -0.502640        3.0              1    0.431861     0.0   \n",
              "4     0 -1.201883        3.0              1   -0.547512     0.0   \n",
              "5     0 -0.153018        2.0              1    0.839934     0.0   \n",
              "6     1  0.196603        1.0              1    0.431861     0.0   \n",
              "\n",
              "   prevalentStroke  prevalentHyp  diabetes   totChol     sysBP     diaBP  \\\n",
              "2                0             0         0 -0.686549 -0.415531  0.079783   \n",
              "3                0             1         0 -0.453261 -0.415531  0.606828   \n",
              "4                0             0         0 -2.149901 -1.095556 -1.877814   \n",
              "5                0             0         0  0.352642 -0.575537 -1.124892   \n",
              "6                0             1         0  0.395058  0.184491  0.230367   \n",
              "\n",
              "        BMI  heartRate   glucose  TenYearCHD  \n",
              "2  0.039784   0.737159  0.099742           0  \n",
              "3  1.008981   0.491341 -0.829773           0  \n",
              "4 -0.644754  -0.901625 -0.080164           0  \n",
              "5 -1.471621   0.327463 -0.409992           0  \n",
              "6 -0.583755   1.638491 -0.230086           0  "
            ],
            "text/html": [
              "\n",
              "  <div id=\"df-8f7d1a95-7359-4f18-a8fd-2a16a8997fcb\">\n",
              "    <div class=\"colab-df-container\">\n",
              "      <div>\n",
              "<style scoped>\n",
              "    .dataframe tbody tr th:only-of-type {\n",
              "        vertical-align: middle;\n",
              "    }\n",
              "\n",
              "    .dataframe tbody tr th {\n",
              "        vertical-align: top;\n",
              "    }\n",
              "\n",
              "    .dataframe thead th {\n",
              "        text-align: right;\n",
              "    }\n",
              "</style>\n",
              "<table border=\"1\" class=\"dataframe\">\n",
              "  <thead>\n",
              "    <tr style=\"text-align: right;\">\n",
              "      <th></th>\n",
              "      <th>male</th>\n",
              "      <th>age</th>\n",
              "      <th>education</th>\n",
              "      <th>currentSmoker</th>\n",
              "      <th>cigsPerDay</th>\n",
              "      <th>BPMeds</th>\n",
              "      <th>prevalentStroke</th>\n",
              "      <th>prevalentHyp</th>\n",
              "      <th>diabetes</th>\n",
              "      <th>totChol</th>\n",
              "      <th>sysBP</th>\n",
              "      <th>diaBP</th>\n",
              "      <th>BMI</th>\n",
              "      <th>heartRate</th>\n",
              "      <th>glucose</th>\n",
              "      <th>TenYearCHD</th>\n",
              "    </tr>\n",
              "  </thead>\n",
              "  <tbody>\n",
              "    <tr>\n",
              "      <th>2</th>\n",
              "      <td>1</td>\n",
              "      <td>-0.852262</td>\n",
              "      <td>2.0</td>\n",
              "      <td>1</td>\n",
              "      <td>0.431861</td>\n",
              "      <td>0.0</td>\n",
              "      <td>0</td>\n",
              "      <td>0</td>\n",
              "      <td>0</td>\n",
              "      <td>-0.686549</td>\n",
              "      <td>-0.415531</td>\n",
              "      <td>0.079783</td>\n",
              "      <td>0.039784</td>\n",
              "      <td>0.737159</td>\n",
              "      <td>0.099742</td>\n",
              "      <td>0</td>\n",
              "    </tr>\n",
              "    <tr>\n",
              "      <th>3</th>\n",
              "      <td>1</td>\n",
              "      <td>-0.502640</td>\n",
              "      <td>3.0</td>\n",
              "      <td>1</td>\n",
              "      <td>0.431861</td>\n",
              "      <td>0.0</td>\n",
              "      <td>0</td>\n",
              "      <td>1</td>\n",
              "      <td>0</td>\n",
              "      <td>-0.453261</td>\n",
              "      <td>-0.415531</td>\n",
              "      <td>0.606828</td>\n",
              "      <td>1.008981</td>\n",
              "      <td>0.491341</td>\n",
              "      <td>-0.829773</td>\n",
              "      <td>0</td>\n",
              "    </tr>\n",
              "    <tr>\n",
              "      <th>4</th>\n",
              "      <td>0</td>\n",
              "      <td>-1.201883</td>\n",
              "      <td>3.0</td>\n",
              "      <td>1</td>\n",
              "      <td>-0.547512</td>\n",
              "      <td>0.0</td>\n",
              "      <td>0</td>\n",
              "      <td>0</td>\n",
              "      <td>0</td>\n",
              "      <td>-2.149901</td>\n",
              "      <td>-1.095556</td>\n",
              "      <td>-1.877814</td>\n",
              "      <td>-0.644754</td>\n",
              "      <td>-0.901625</td>\n",
              "      <td>-0.080164</td>\n",
              "      <td>0</td>\n",
              "    </tr>\n",
              "    <tr>\n",
              "      <th>5</th>\n",
              "      <td>0</td>\n",
              "      <td>-0.153018</td>\n",
              "      <td>2.0</td>\n",
              "      <td>1</td>\n",
              "      <td>0.839934</td>\n",
              "      <td>0.0</td>\n",
              "      <td>0</td>\n",
              "      <td>0</td>\n",
              "      <td>0</td>\n",
              "      <td>0.352642</td>\n",
              "      <td>-0.575537</td>\n",
              "      <td>-1.124892</td>\n",
              "      <td>-1.471621</td>\n",
              "      <td>0.327463</td>\n",
              "      <td>-0.409992</td>\n",
              "      <td>0</td>\n",
              "    </tr>\n",
              "    <tr>\n",
              "      <th>6</th>\n",
              "      <td>1</td>\n",
              "      <td>0.196603</td>\n",
              "      <td>1.0</td>\n",
              "      <td>1</td>\n",
              "      <td>0.431861</td>\n",
              "      <td>0.0</td>\n",
              "      <td>0</td>\n",
              "      <td>1</td>\n",
              "      <td>0</td>\n",
              "      <td>0.395058</td>\n",
              "      <td>0.184491</td>\n",
              "      <td>0.230367</td>\n",
              "      <td>-0.583755</td>\n",
              "      <td>1.638491</td>\n",
              "      <td>-0.230086</td>\n",
              "      <td>0</td>\n",
              "    </tr>\n",
              "  </tbody>\n",
              "</table>\n",
              "</div>\n",
              "      <button class=\"colab-df-convert\" onclick=\"convertToInteractive('df-8f7d1a95-7359-4f18-a8fd-2a16a8997fcb')\"\n",
              "              title=\"Convert this dataframe to an interactive table.\"\n",
              "              style=\"display:none;\">\n",
              "        \n",
              "  <svg xmlns=\"http://www.w3.org/2000/svg\" height=\"24px\"viewBox=\"0 0 24 24\"\n",
              "       width=\"24px\">\n",
              "    <path d=\"M0 0h24v24H0V0z\" fill=\"none\"/>\n",
              "    <path d=\"M18.56 5.44l.94 2.06.94-2.06 2.06-.94-2.06-.94-.94-2.06-.94 2.06-2.06.94zm-11 1L8.5 8.5l.94-2.06 2.06-.94-2.06-.94L8.5 2.5l-.94 2.06-2.06.94zm10 10l.94 2.06.94-2.06 2.06-.94-2.06-.94-.94-2.06-.94 2.06-2.06.94z\"/><path d=\"M17.41 7.96l-1.37-1.37c-.4-.4-.92-.59-1.43-.59-.52 0-1.04.2-1.43.59L10.3 9.45l-7.72 7.72c-.78.78-.78 2.05 0 2.83L4 21.41c.39.39.9.59 1.41.59.51 0 1.02-.2 1.41-.59l7.78-7.78 2.81-2.81c.8-.78.8-2.07 0-2.86zM5.41 20L4 18.59l7.72-7.72 1.47 1.35L5.41 20z\"/>\n",
              "  </svg>\n",
              "      </button>\n",
              "      \n",
              "  <style>\n",
              "    .colab-df-container {\n",
              "      display:flex;\n",
              "      flex-wrap:wrap;\n",
              "      gap: 12px;\n",
              "    }\n",
              "\n",
              "    .colab-df-convert {\n",
              "      background-color: #E8F0FE;\n",
              "      border: none;\n",
              "      border-radius: 50%;\n",
              "      cursor: pointer;\n",
              "      display: none;\n",
              "      fill: #1967D2;\n",
              "      height: 32px;\n",
              "      padding: 0 0 0 0;\n",
              "      width: 32px;\n",
              "    }\n",
              "\n",
              "    .colab-df-convert:hover {\n",
              "      background-color: #E2EBFA;\n",
              "      box-shadow: 0px 1px 2px rgba(60, 64, 67, 0.3), 0px 1px 3px 1px rgba(60, 64, 67, 0.15);\n",
              "      fill: #174EA6;\n",
              "    }\n",
              "\n",
              "    [theme=dark] .colab-df-convert {\n",
              "      background-color: #3B4455;\n",
              "      fill: #D2E3FC;\n",
              "    }\n",
              "\n",
              "    [theme=dark] .colab-df-convert:hover {\n",
              "      background-color: #434B5C;\n",
              "      box-shadow: 0px 1px 3px 1px rgba(0, 0, 0, 0.15);\n",
              "      filter: drop-shadow(0px 1px 2px rgba(0, 0, 0, 0.3));\n",
              "      fill: #FFFFFF;\n",
              "    }\n",
              "  </style>\n",
              "\n",
              "      <script>\n",
              "        const buttonEl =\n",
              "          document.querySelector('#df-8f7d1a95-7359-4f18-a8fd-2a16a8997fcb button.colab-df-convert');\n",
              "        buttonEl.style.display =\n",
              "          google.colab.kernel.accessAllowed ? 'block' : 'none';\n",
              "\n",
              "        async function convertToInteractive(key) {\n",
              "          const element = document.querySelector('#df-8f7d1a95-7359-4f18-a8fd-2a16a8997fcb');\n",
              "          const dataTable =\n",
              "            await google.colab.kernel.invokeFunction('convertToInteractive',\n",
              "                                                     [key], {});\n",
              "          if (!dataTable) return;\n",
              "\n",
              "          const docLinkHtml = 'Like what you see? Visit the ' +\n",
              "            '<a target=\"_blank\" href=https://colab.research.google.com/notebooks/data_table.ipynb>data table notebook</a>'\n",
              "            + ' to learn more about interactive tables.';\n",
              "          element.innerHTML = '';\n",
              "          dataTable['output_type'] = 'display_data';\n",
              "          await google.colab.output.renderOutput(dataTable, element);\n",
              "          const docLink = document.createElement('div');\n",
              "          docLink.innerHTML = docLinkHtml;\n",
              "          element.appendChild(docLink);\n",
              "        }\n",
              "      </script>\n",
              "    </div>\n",
              "  </div>\n",
              "  "
            ]
          },
          "metadata": {},
          "execution_count": 60
        }
      ],
      "source": [
        "# TODO: Output the head of the DataFrame\n",
        "DF.head()"
      ]
    },
    {
      "cell_type": "markdown",
      "metadata": {
        "id": "RinUmM5uxc44"
      },
      "source": [
        "\n",
        "\n",
        "### Train Test Split\n",
        "Let's start by splitting our data into a training set (80%) and test set (20%). Refer to : https://scikit-learn.org/stable/modules/generated/sklearn.model_selection.train_test_split.html"
      ]
    },
    {
      "cell_type": "code",
      "execution_count": 63,
      "metadata": {
        "id": "B3TROiHWxc44"
      },
      "outputs": [],
      "source": [
        "from sklearn.model_selection import train_test_split"
      ]
    },
    {
      "cell_type": "code",
      "source": [
        "y = DF['TenYearCHD']"
      ],
      "metadata": {
        "id": "9QRm6M2FBo5g"
      },
      "execution_count": 66,
      "outputs": []
    },
    {
      "cell_type": "code",
      "source": [
        "del DF['TenYearCHD']"
      ],
      "metadata": {
        "id": "7zFQmtuxBo84"
      },
      "execution_count": 67,
      "outputs": []
    },
    {
      "cell_type": "code",
      "execution_count": 68,
      "metadata": {
        "id": "OzGxpVI4xc44"
      },
      "outputs": [],
      "source": [
        "X_train, X_test, y_train, y_test = train_test_split(DF,y,test_size=0.20,train_size=0.80)"
      ]
    },
    {
      "cell_type": "markdown",
      "metadata": {
        "id": "K7Z-NSCvxc44"
      },
      "source": [
        "## Building a Logistic Regression model\n"
      ]
    },
    {
      "cell_type": "markdown",
      "metadata": {
        "id": "DJoXdfdKxc44"
      },
      "source": [
        "### Training and Predicting"
      ]
    },
    {
      "cell_type": "code",
      "execution_count": 69,
      "metadata": {
        "id": "SengLCpMxc44"
      },
      "outputs": [],
      "source": [
        "from sklearn.linear_model import LogisticRegression"
      ]
    },
    {
      "cell_type": "markdown",
      "metadata": {
        "id": "13cWt9YQxc44"
      },
      "source": [
        "Create an instance of Logistic Regression. Refer to: https://scikit-learn.org/stable/modules/generated/sklearn.linear_model.LogisticRegression.html"
      ]
    },
    {
      "cell_type": "code",
      "execution_count": 70,
      "metadata": {
        "id": "HTa8XFOQxc45"
      },
      "outputs": [],
      "source": [
        "logmodel = LogisticRegression(random_state=0)"
      ]
    },
    {
      "cell_type": "markdown",
      "metadata": {
        "id": "eYd7vI_3xc45"
      },
      "source": [
        "Call method fit() to train the logistic regression model. "
      ]
    },
    {
      "cell_type": "code",
      "execution_count": 71,
      "metadata": {
        "id": "LuHxZL_bxc45",
        "colab": {
          "base_uri": "https://localhost:8080/",
          "height": 74
        },
        "outputId": "2a3c3c6f-aa7b-43af-f30e-c592fdd51d4c"
      },
      "outputs": [
        {
          "output_type": "execute_result",
          "data": {
            "text/plain": [
              "LogisticRegression(random_state=0)"
            ],
            "text/html": [
              "<style>#sk-container-id-1 {color: black;background-color: white;}#sk-container-id-1 pre{padding: 0;}#sk-container-id-1 div.sk-toggleable {background-color: white;}#sk-container-id-1 label.sk-toggleable__label {cursor: pointer;display: block;width: 100%;margin-bottom: 0;padding: 0.3em;box-sizing: border-box;text-align: center;}#sk-container-id-1 label.sk-toggleable__label-arrow:before {content: \"▸\";float: left;margin-right: 0.25em;color: #696969;}#sk-container-id-1 label.sk-toggleable__label-arrow:hover:before {color: black;}#sk-container-id-1 div.sk-estimator:hover label.sk-toggleable__label-arrow:before {color: black;}#sk-container-id-1 div.sk-toggleable__content {max-height: 0;max-width: 0;overflow: hidden;text-align: left;background-color: #f0f8ff;}#sk-container-id-1 div.sk-toggleable__content pre {margin: 0.2em;color: black;border-radius: 0.25em;background-color: #f0f8ff;}#sk-container-id-1 input.sk-toggleable__control:checked~div.sk-toggleable__content {max-height: 200px;max-width: 100%;overflow: auto;}#sk-container-id-1 input.sk-toggleable__control:checked~label.sk-toggleable__label-arrow:before {content: \"▾\";}#sk-container-id-1 div.sk-estimator input.sk-toggleable__control:checked~label.sk-toggleable__label {background-color: #d4ebff;}#sk-container-id-1 div.sk-label input.sk-toggleable__control:checked~label.sk-toggleable__label {background-color: #d4ebff;}#sk-container-id-1 input.sk-hidden--visually {border: 0;clip: rect(1px 1px 1px 1px);clip: rect(1px, 1px, 1px, 1px);height: 1px;margin: -1px;overflow: hidden;padding: 0;position: absolute;width: 1px;}#sk-container-id-1 div.sk-estimator {font-family: monospace;background-color: #f0f8ff;border: 1px dotted black;border-radius: 0.25em;box-sizing: border-box;margin-bottom: 0.5em;}#sk-container-id-1 div.sk-estimator:hover {background-color: #d4ebff;}#sk-container-id-1 div.sk-parallel-item::after {content: \"\";width: 100%;border-bottom: 1px solid gray;flex-grow: 1;}#sk-container-id-1 div.sk-label:hover label.sk-toggleable__label {background-color: #d4ebff;}#sk-container-id-1 div.sk-serial::before {content: \"\";position: absolute;border-left: 1px solid gray;box-sizing: border-box;top: 0;bottom: 0;left: 50%;z-index: 0;}#sk-container-id-1 div.sk-serial {display: flex;flex-direction: column;align-items: center;background-color: white;padding-right: 0.2em;padding-left: 0.2em;position: relative;}#sk-container-id-1 div.sk-item {position: relative;z-index: 1;}#sk-container-id-1 div.sk-parallel {display: flex;align-items: stretch;justify-content: center;background-color: white;position: relative;}#sk-container-id-1 div.sk-item::before, #sk-container-id-1 div.sk-parallel-item::before {content: \"\";position: absolute;border-left: 1px solid gray;box-sizing: border-box;top: 0;bottom: 0;left: 50%;z-index: -1;}#sk-container-id-1 div.sk-parallel-item {display: flex;flex-direction: column;z-index: 1;position: relative;background-color: white;}#sk-container-id-1 div.sk-parallel-item:first-child::after {align-self: flex-end;width: 50%;}#sk-container-id-1 div.sk-parallel-item:last-child::after {align-self: flex-start;width: 50%;}#sk-container-id-1 div.sk-parallel-item:only-child::after {width: 0;}#sk-container-id-1 div.sk-dashed-wrapped {border: 1px dashed gray;margin: 0 0.4em 0.5em 0.4em;box-sizing: border-box;padding-bottom: 0.4em;background-color: white;}#sk-container-id-1 div.sk-label label {font-family: monospace;font-weight: bold;display: inline-block;line-height: 1.2em;}#sk-container-id-1 div.sk-label-container {text-align: center;}#sk-container-id-1 div.sk-container {/* jupyter's `normalize.less` sets `[hidden] { display: none; }` but bootstrap.min.css set `[hidden] { display: none !important; }` so we also need the `!important` here to be able to override the default hidden behavior on the sphinx rendered scikit-learn.org. See: https://github.com/scikit-learn/scikit-learn/issues/21755 */display: inline-block !important;position: relative;}#sk-container-id-1 div.sk-text-repr-fallback {display: none;}</style><div id=\"sk-container-id-1\" class=\"sk-top-container\"><div class=\"sk-text-repr-fallback\"><pre>LogisticRegression(random_state=0)</pre><b>In a Jupyter environment, please rerun this cell to show the HTML representation or trust the notebook. <br />On GitHub, the HTML representation is unable to render, please try loading this page with nbviewer.org.</b></div><div class=\"sk-container\" hidden><div class=\"sk-item\"><div class=\"sk-estimator sk-toggleable\"><input class=\"sk-toggleable__control sk-hidden--visually\" id=\"sk-estimator-id-1\" type=\"checkbox\" checked><label for=\"sk-estimator-id-1\" class=\"sk-toggleable__label sk-toggleable__label-arrow\">LogisticRegression</label><div class=\"sk-toggleable__content\"><pre>LogisticRegression(random_state=0)</pre></div></div></div></div></div>"
            ]
          },
          "metadata": {},
          "execution_count": 71
        }
      ],
      "source": [
        "logmodel.fit(X_train,y_train)"
      ]
    },
    {
      "cell_type": "markdown",
      "metadata": {
        "id": "xVvPyb9Hxc45"
      },
      "source": [
        "Call method predict() of logistic regression to make predictions for the test set. "
      ]
    },
    {
      "cell_type": "code",
      "execution_count": 74,
      "metadata": {
        "id": "Z5gNQTdSxc45"
      },
      "outputs": [],
      "source": [
        "predictions = logmodel.predict(X_test)\n"
      ]
    },
    {
      "cell_type": "markdown",
      "metadata": {
        "id": "oNLgkhH8xc45"
      },
      "source": [
        "### Evaluation\n",
        "\n",
        "1. Precision: tell us the proportion of positive indentifications that was actually correct. \n",
        "$$ Precision = \\frac{True\\_Pos}{True\\_Pos + False\\_Pos}$$\n",
        "\n",
        "\n",
        "2. Recall: tells us the proportion of actuall positives that was indentified correctly. \n",
        "$$ Recall = \\frac{True\\_Pos}{True\\_Pos + False\\_Neg}$$\n",
        "\n",
        "\n",
        "3. F1-score: F1 score is the harmonic mean of precision and recall. \n",
        "\n",
        "We can check precision,recall,f1-score using classification report! \n",
        "\n",
        "Refer to: https://scikit-learn.org/stable/modules/generated/sklearn.metrics.classification_report.html"
      ]
    },
    {
      "cell_type": "code",
      "execution_count": 76,
      "metadata": {
        "id": "fLWOqBYqxc45"
      },
      "outputs": [],
      "source": [
        "from sklearn.metrics import classification_report, confusion_matrix"
      ]
    },
    {
      "cell_type": "code",
      "execution_count": 79,
      "metadata": {
        "scrolled": false,
        "id": "3DXUDQHrxc45",
        "colab": {
          "base_uri": "https://localhost:8080/"
        },
        "outputId": "e7d9675c-8bbe-400e-b039-17378f16c0a2"
      },
      "outputs": [
        {
          "output_type": "stream",
          "name": "stdout",
          "text": [
            "              precision    recall  f1-score   support\n",
            "\n",
            "           0       0.67      0.75      0.70       115\n",
            "           1       0.69      0.60      0.64       108\n",
            "\n",
            "    accuracy                           0.68       223\n",
            "   macro avg       0.68      0.67      0.67       223\n",
            "weighted avg       0.68      0.68      0.68       223\n",
            "\n"
          ]
        }
      ],
      "source": [
        "# TODO: Print the classification report\n",
        "print(classification_report(y_test,predictions))"
      ]
    },
    {
      "cell_type": "markdown",
      "metadata": {
        "id": "vN2MGBHtxc46"
      },
      "source": [
        "[link text](https://)## Building a Support Vector Classifier model\n"
      ]
    },
    {
      "cell_type": "code",
      "execution_count": 81,
      "metadata": {
        "id": "AiLAvIAaxc46",
        "outputId": "2e5c562f-f290-46fa-d109-c9ff9ab3565c",
        "colab": {
          "base_uri": "https://localhost:8080/",
          "height": 74
        }
      },
      "outputs": [
        {
          "output_type": "execute_result",
          "data": {
            "text/plain": [
              "SVC(kernel='linear')"
            ],
            "text/html": [
              "<style>#sk-container-id-2 {color: black;background-color: white;}#sk-container-id-2 pre{padding: 0;}#sk-container-id-2 div.sk-toggleable {background-color: white;}#sk-container-id-2 label.sk-toggleable__label {cursor: pointer;display: block;width: 100%;margin-bottom: 0;padding: 0.3em;box-sizing: border-box;text-align: center;}#sk-container-id-2 label.sk-toggleable__label-arrow:before {content: \"▸\";float: left;margin-right: 0.25em;color: #696969;}#sk-container-id-2 label.sk-toggleable__label-arrow:hover:before {color: black;}#sk-container-id-2 div.sk-estimator:hover label.sk-toggleable__label-arrow:before {color: black;}#sk-container-id-2 div.sk-toggleable__content {max-height: 0;max-width: 0;overflow: hidden;text-align: left;background-color: #f0f8ff;}#sk-container-id-2 div.sk-toggleable__content pre {margin: 0.2em;color: black;border-radius: 0.25em;background-color: #f0f8ff;}#sk-container-id-2 input.sk-toggleable__control:checked~div.sk-toggleable__content {max-height: 200px;max-width: 100%;overflow: auto;}#sk-container-id-2 input.sk-toggleable__control:checked~label.sk-toggleable__label-arrow:before {content: \"▾\";}#sk-container-id-2 div.sk-estimator input.sk-toggleable__control:checked~label.sk-toggleable__label {background-color: #d4ebff;}#sk-container-id-2 div.sk-label input.sk-toggleable__control:checked~label.sk-toggleable__label {background-color: #d4ebff;}#sk-container-id-2 input.sk-hidden--visually {border: 0;clip: rect(1px 1px 1px 1px);clip: rect(1px, 1px, 1px, 1px);height: 1px;margin: -1px;overflow: hidden;padding: 0;position: absolute;width: 1px;}#sk-container-id-2 div.sk-estimator {font-family: monospace;background-color: #f0f8ff;border: 1px dotted black;border-radius: 0.25em;box-sizing: border-box;margin-bottom: 0.5em;}#sk-container-id-2 div.sk-estimator:hover {background-color: #d4ebff;}#sk-container-id-2 div.sk-parallel-item::after {content: \"\";width: 100%;border-bottom: 1px solid gray;flex-grow: 1;}#sk-container-id-2 div.sk-label:hover label.sk-toggleable__label {background-color: #d4ebff;}#sk-container-id-2 div.sk-serial::before {content: \"\";position: absolute;border-left: 1px solid gray;box-sizing: border-box;top: 0;bottom: 0;left: 50%;z-index: 0;}#sk-container-id-2 div.sk-serial {display: flex;flex-direction: column;align-items: center;background-color: white;padding-right: 0.2em;padding-left: 0.2em;position: relative;}#sk-container-id-2 div.sk-item {position: relative;z-index: 1;}#sk-container-id-2 div.sk-parallel {display: flex;align-items: stretch;justify-content: center;background-color: white;position: relative;}#sk-container-id-2 div.sk-item::before, #sk-container-id-2 div.sk-parallel-item::before {content: \"\";position: absolute;border-left: 1px solid gray;box-sizing: border-box;top: 0;bottom: 0;left: 50%;z-index: -1;}#sk-container-id-2 div.sk-parallel-item {display: flex;flex-direction: column;z-index: 1;position: relative;background-color: white;}#sk-container-id-2 div.sk-parallel-item:first-child::after {align-self: flex-end;width: 50%;}#sk-container-id-2 div.sk-parallel-item:last-child::after {align-self: flex-start;width: 50%;}#sk-container-id-2 div.sk-parallel-item:only-child::after {width: 0;}#sk-container-id-2 div.sk-dashed-wrapped {border: 1px dashed gray;margin: 0 0.4em 0.5em 0.4em;box-sizing: border-box;padding-bottom: 0.4em;background-color: white;}#sk-container-id-2 div.sk-label label {font-family: monospace;font-weight: bold;display: inline-block;line-height: 1.2em;}#sk-container-id-2 div.sk-label-container {text-align: center;}#sk-container-id-2 div.sk-container {/* jupyter's `normalize.less` sets `[hidden] { display: none; }` but bootstrap.min.css set `[hidden] { display: none !important; }` so we also need the `!important` here to be able to override the default hidden behavior on the sphinx rendered scikit-learn.org. See: https://github.com/scikit-learn/scikit-learn/issues/21755 */display: inline-block !important;position: relative;}#sk-container-id-2 div.sk-text-repr-fallback {display: none;}</style><div id=\"sk-container-id-2\" class=\"sk-top-container\"><div class=\"sk-text-repr-fallback\"><pre>SVC(kernel=&#x27;linear&#x27;)</pre><b>In a Jupyter environment, please rerun this cell to show the HTML representation or trust the notebook. <br />On GitHub, the HTML representation is unable to render, please try loading this page with nbviewer.org.</b></div><div class=\"sk-container\" hidden><div class=\"sk-item\"><div class=\"sk-estimator sk-toggleable\"><input class=\"sk-toggleable__control sk-hidden--visually\" id=\"sk-estimator-id-2\" type=\"checkbox\" checked><label for=\"sk-estimator-id-2\" class=\"sk-toggleable__label sk-toggleable__label-arrow\">SVC</label><div class=\"sk-toggleable__content\"><pre>SVC(kernel=&#x27;linear&#x27;)</pre></div></div></div></div></div>"
            ]
          },
          "metadata": {},
          "execution_count": 81
        }
      ],
      "source": [
        "from sklearn.svm import SVC\n",
        "svc_model = SVC(kernel='linear')\n",
        "svc_model.fit(X_train,y_train)\n",
        "# TODO: fit the model"
      ]
    },
    {
      "cell_type": "code",
      "execution_count": 82,
      "metadata": {
        "id": "0xzktC_dxc46"
      },
      "outputs": [],
      "source": [
        "predictions = svc_model.predict(X_test)"
      ]
    },
    {
      "cell_type": "code",
      "execution_count": null,
      "metadata": {
        "id": "SbVY_OS9xc46",
        "outputId": "1fca9d48-6372-4e79-9cf0-7887c3c67601"
      },
      "outputs": [
        {
          "name": "stdout",
          "output_type": "stream",
          "text": [
            "              precision    recall  f1-score   support\n",
            "\n",
            "           0       0.68      0.69      0.69       117\n",
            "           1       0.65      0.64      0.65       106\n",
            "\n",
            "    accuracy                           0.67       223\n",
            "   macro avg       0.67      0.67      0.67       223\n",
            "weighted avg       0.67      0.67      0.67       223\n",
            "\n"
          ]
        }
      ],
      "source": [
        "# TODO: Print the classification report\n"
      ]
    },
    {
      "cell_type": "code",
      "execution_count": null,
      "metadata": {
        "scrolled": true,
        "id": "kpTri-tExc46",
        "outputId": "753ed22b-2608-438e-e52c-7ddd3b4aef6a"
      },
      "outputs": [
        {
          "name": "stdout",
          "output_type": "stream",
          "text": [
            "[[81 36]\n",
            " [38 68]]\n"
          ]
        }
      ],
      "source": [
        "# TODO: Print the confusion matrix\n"
      ]
    },
    {
      "cell_type": "markdown",
      "metadata": {
        "id": "98xCgs-0xc46"
      },
      "source": [
        "#### Use Grid search \n",
        "\n",
        "Grid search is a process that searches exhaustively through a manually specified subset of the hyperparameter space of the targeted algorithm. We need to specify the parameters to search through for best results. \n",
        "\n",
        "For SVM we will tune these hyperparameters:\n",
        "\n",
        "1. Parameter 'C': determines how much you want to avoid missclassfying each training examples. \n",
        "2. Parameter 'gamma': Defiens how far the influence of a single training example reaches. High gamma will consider only points close to the hyperplane, and low gamma will consider points at a greater distance\n",
        "\n",
        "Now we will use GridSearchCV to find the best parameters for the model. Refer to: https://scikit-learn.org/stable/modules/grid_search.html"
      ]
    },
    {
      "cell_type": "code",
      "execution_count": null,
      "metadata": {
        "id": "5-30DETtxc46"
      },
      "outputs": [],
      "source": [
        "from sklearn.model_selection import GridSearchCV"
      ]
    },
    {
      "cell_type": "code",
      "execution_count": null,
      "metadata": {
        "id": "JVyNh76nxc47"
      },
      "outputs": [],
      "source": [
        "param_grid = {'C': [0.1,1, 10, 100], 'gamma': [1,0.1,0.01,0.001]} "
      ]
    },
    {
      "cell_type": "code",
      "execution_count": null,
      "metadata": {
        "id": "iL3yNbSsxc47",
        "outputId": "39983c2e-a6e3-40f9-d968-cdbc30004acc"
      },
      "outputs": [
        {
          "name": "stdout",
          "output_type": "stream",
          "text": [
            "Fitting 5 folds for each of 16 candidates, totalling 80 fits\n",
            "[CV] END .....................................C=0.1, gamma=1; total time=   0.0s\n",
            "[CV] END .....................................C=0.1, gamma=1; total time=   0.0s\n",
            "[CV] END .....................................C=0.1, gamma=1; total time=   0.0s\n",
            "[CV] END .....................................C=0.1, gamma=1; total time=   0.0s\n",
            "[CV] END .....................................C=0.1, gamma=1; total time=   0.0s\n",
            "[CV] END ...................................C=0.1, gamma=0.1; total time=   0.0s\n",
            "[CV] END ...................................C=0.1, gamma=0.1; total time=   0.0s\n",
            "[CV] END ...................................C=0.1, gamma=0.1; total time=   0.0s\n",
            "[CV] END ...................................C=0.1, gamma=0.1; total time=   0.0s\n",
            "[CV] END ...................................C=0.1, gamma=0.1; total time=   0.0s\n",
            "[CV] END ..................................C=0.1, gamma=0.01; total time=   0.0s\n",
            "[CV] END ..................................C=0.1, gamma=0.01; total time=   0.0s\n",
            "[CV] END ..................................C=0.1, gamma=0.01; total time=   0.0s\n",
            "[CV] END ..................................C=0.1, gamma=0.01; total time=   0.0s\n",
            "[CV] END ..................................C=0.1, gamma=0.01; total time=   0.0s\n",
            "[CV] END .................................C=0.1, gamma=0.001; total time=   0.0s\n",
            "[CV] END .................................C=0.1, gamma=0.001; total time=   0.0s\n",
            "[CV] END .................................C=0.1, gamma=0.001; total time=   0.0s\n",
            "[CV] END .................................C=0.1, gamma=0.001; total time=   0.0s\n",
            "[CV] END .................................C=0.1, gamma=0.001; total time=   0.0s\n",
            "[CV] END .......................................C=1, gamma=1; total time=   0.0s\n",
            "[CV] END .......................................C=1, gamma=1; total time=   0.0s\n",
            "[CV] END .......................................C=1, gamma=1; total time=   0.0s\n",
            "[CV] END .......................................C=1, gamma=1; total time=   0.0s\n",
            "[CV] END .......................................C=1, gamma=1; total time=   0.0s\n",
            "[CV] END .....................................C=1, gamma=0.1; total time=   0.0s\n",
            "[CV] END .....................................C=1, gamma=0.1; total time=   0.0s\n",
            "[CV] END .....................................C=1, gamma=0.1; total time=   0.0s\n",
            "[CV] END .....................................C=1, gamma=0.1; total time=   0.0s\n",
            "[CV] END .....................................C=1, gamma=0.1; total time=   0.0s\n",
            "[CV] END ....................................C=1, gamma=0.01; total time=   0.0s\n",
            "[CV] END ....................................C=1, gamma=0.01; total time=   0.0s\n",
            "[CV] END ....................................C=1, gamma=0.01; total time=   0.0s\n",
            "[CV] END ....................................C=1, gamma=0.01; total time=   0.0s\n",
            "[CV] END ....................................C=1, gamma=0.01; total time=   0.0s\n",
            "[CV] END ...................................C=1, gamma=0.001; total time=   0.0s\n",
            "[CV] END ...................................C=1, gamma=0.001; total time=   0.0s\n",
            "[CV] END ...................................C=1, gamma=0.001; total time=   0.0s\n",
            "[CV] END ...................................C=1, gamma=0.001; total time=   0.0s\n",
            "[CV] END ...................................C=1, gamma=0.001; total time=   0.0s\n",
            "[CV] END ......................................C=10, gamma=1; total time=   0.0s\n",
            "[CV] END ......................................C=10, gamma=1; total time=   0.0s\n",
            "[CV] END ......................................C=10, gamma=1; total time=   0.0s\n",
            "[CV] END ......................................C=10, gamma=1; total time=   0.0s\n",
            "[CV] END ......................................C=10, gamma=1; total time=   0.0s\n",
            "[CV] END ....................................C=10, gamma=0.1; total time=   0.0s\n",
            "[CV] END ....................................C=10, gamma=0.1; total time=   0.0s\n",
            "[CV] END ....................................C=10, gamma=0.1; total time=   0.0s\n",
            "[CV] END ....................................C=10, gamma=0.1; total time=   0.0s\n",
            "[CV] END ....................................C=10, gamma=0.1; total time=   0.0s\n",
            "[CV] END ...................................C=10, gamma=0.01; total time=   0.0s\n",
            "[CV] END ...................................C=10, gamma=0.01; total time=   0.1s\n",
            "[CV] END ...................................C=10, gamma=0.01; total time=   0.0s\n",
            "[CV] END ...................................C=10, gamma=0.01; total time=   0.0s\n",
            "[CV] END ...................................C=10, gamma=0.01; total time=   0.0s\n",
            "[CV] END ..................................C=10, gamma=0.001; total time=   0.0s\n",
            "[CV] END ..................................C=10, gamma=0.001; total time=   0.0s\n",
            "[CV] END ..................................C=10, gamma=0.001; total time=   0.0s\n",
            "[CV] END ..................................C=10, gamma=0.001; total time=   0.0s\n",
            "[CV] END ..................................C=10, gamma=0.001; total time=   0.0s\n",
            "[CV] END .....................................C=100, gamma=1; total time=   0.0s\n",
            "[CV] END .....................................C=100, gamma=1; total time=   0.0s\n",
            "[CV] END .....................................C=100, gamma=1; total time=   0.1s\n",
            "[CV] END .....................................C=100, gamma=1; total time=   0.0s\n",
            "[CV] END .....................................C=100, gamma=1; total time=   0.0s\n",
            "[CV] END ...................................C=100, gamma=0.1; total time=   0.1s\n",
            "[CV] END ...................................C=100, gamma=0.1; total time=   0.1s\n",
            "[CV] END ...................................C=100, gamma=0.1; total time=   0.1s\n",
            "[CV] END ...................................C=100, gamma=0.1; total time=   0.1s\n",
            "[CV] END ...................................C=100, gamma=0.1; total time=   0.1s\n",
            "[CV] END ..................................C=100, gamma=0.01; total time=   0.0s\n",
            "[CV] END ..................................C=100, gamma=0.01; total time=   0.0s\n",
            "[CV] END ..................................C=100, gamma=0.01; total time=   0.0s\n",
            "[CV] END ..................................C=100, gamma=0.01; total time=   0.0s\n",
            "[CV] END ..................................C=100, gamma=0.01; total time=   0.0s\n",
            "[CV] END .................................C=100, gamma=0.001; total time=   0.0s\n",
            "[CV] END .................................C=100, gamma=0.001; total time=   0.0s\n",
            "[CV] END .................................C=100, gamma=0.001; total time=   0.0s\n",
            "[CV] END .................................C=100, gamma=0.001; total time=   0.0s\n",
            "[CV] END .................................C=100, gamma=0.001; total time=   0.0s\n"
          ]
        },
        {
          "data": {
            "text/plain": [
              "GridSearchCV(estimator=SVC(),\n",
              "             param_grid={'C': [0.1, 1, 10, 100],\n",
              "                         'gamma': [1, 0.1, 0.01, 0.001]},\n",
              "             verbose=2)"
            ]
          },
          "execution_count": 27,
          "metadata": {},
          "output_type": "execute_result"
        }
      ],
      "source": [
        "grid = ...\n",
        "# TODO: Fit the grid"
      ]
    },
    {
      "cell_type": "code",
      "execution_count": null,
      "metadata": {
        "id": "akq94bjFxc47"
      },
      "outputs": [],
      "source": [
        "grid_predictions = ..."
      ]
    },
    {
      "cell_type": "code",
      "execution_count": null,
      "metadata": {
        "id": "0fRM6eyCxc47",
        "outputId": "1464e046-232e-4e54-e92f-b0e62d2d42cd"
      },
      "outputs": [
        {
          "name": "stdout",
          "output_type": "stream",
          "text": [
            "              precision    recall  f1-score   support\n",
            "\n",
            "           0       0.71      0.71      0.71       117\n",
            "           1       0.68      0.68      0.68       106\n",
            "\n",
            "    accuracy                           0.70       223\n",
            "   macro avg       0.69      0.69      0.69       223\n",
            "weighted avg       0.70      0.70      0.70       223\n",
            "\n"
          ]
        }
      ],
      "source": [
        "# TODO: Print the classification report\n"
      ]
    },
    {
      "cell_type": "code",
      "execution_count": null,
      "metadata": {
        "id": "phJ2RW46xc47",
        "outputId": "0bb3a8bb-92b3-4259-9ab9-68bfeea35444"
      },
      "outputs": [
        {
          "name": "stdout",
          "output_type": "stream",
          "text": [
            "[[81 36]\n",
            " [38 68]]\n"
          ]
        }
      ],
      "source": [
        "# TODO: Print the confusion matrix"
      ]
    },
    {
      "cell_type": "markdown",
      "metadata": {
        "id": "qoQFY0jdxc47"
      },
      "source": [
        "### Observations and results"
      ]
    },
    {
      "cell_type": "markdown",
      "metadata": {
        "id": "TwySEp9dxc48"
      },
      "source": [
        "Write down your observations"
      ]
    },
    {
      "cell_type": "code",
      "execution_count": null,
      "metadata": {
        "id": "1Yq9HZdLxc48"
      },
      "outputs": [],
      "source": [
        "# TODO: Compare the accuracy of the models"
      ]
    }
  ],
  "metadata": {
    "kernelspec": {
      "display_name": "Python 3 (ipykernel)",
      "language": "python",
      "name": "python3"
    },
    "language_info": {
      "codemirror_mode": {
        "name": "ipython",
        "version": 3
      },
      "file_extension": ".py",
      "mimetype": "text/x-python",
      "name": "python",
      "nbconvert_exporter": "python",
      "pygments_lexer": "ipython3",
      "version": "3.9.13"
    },
    "colab": {
      "provenance": []
    }
  },
  "nbformat": 4,
  "nbformat_minor": 0
}